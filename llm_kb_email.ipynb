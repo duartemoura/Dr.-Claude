{
 "cells": [
  {
   "cell_type": "markdown",
   "id": "be436297-d897-40d2-ab78-cdbf146ce542",
   "metadata": {},
   "source": [
    "# Dr. Claude - Patient Care with AWS\n",
    "## Personalized Medical Recommendations using Bedrock, DynamoDb, and SNS"
   ]
  },
  {
   "cell_type": "markdown",
   "id": "1dfd1ab3-d167-42f4-a083-132e95e381d8",
   "metadata": {},
   "source": [
    "## Setup\n",
    "Before running the rest of this notebook, you'll need to run the cells below to (ensure necessary libraries are installed and) connect to Bedrock."
   ]
  },
  {
   "cell_type": "code",
   "execution_count": null,
   "id": "9120c2dc-2793-48f2-abe7-0c3bb2805e0d",
   "metadata": {
    "editable": true,
    "slideshow": {
     "slide_type": ""
    },
    "tags": []
   },
   "outputs": [],
   "source": [
    "%pip install --upgrade pip --quiet\n",
    "%pip install boto3 --force-reinstall --quiet\n",
    "%pip install botocore --force-reinstall --quiet\n",
    "%pip install langchain --force-reinstall --quiet\n",
    "%pip install -U opensearch-py==2.3.1"
   ]
  },
  {
   "cell_type": "code",
   "execution_count": null,
   "id": "82714b89-e788-4a1f-82da-20b9317fa71b",
   "metadata": {
    "editable": true,
    "slideshow": {
     "slide_type": ""
    },
    "tags": []
   },
   "outputs": [],
   "source": [
    "import boto3\n",
    "import botocore\n",
    "from botocore.exceptions import ClientError\n",
    "import json\n",
    "import csv\n",
    "from io import StringIO\n",
    "from langchain_community.chat_models import BedrockChat\n",
    "from langchain_core.prompts import ChatPromptTemplate\n",
    "from langchain.retrievers.bedrock import AmazonKnowledgeBasesRetriever\n",
    "import random\n",
    "import pprint\n",
    "import time\n",
    "from policy_creator import create_bedrock_execution_role, create_oss_policy_attach_bedrock_execution_role, create_policies_in_oss\n",
    "suffix = random.randrange(200, 900)\n",
    "\n",
    "boto3_session = boto3.session.Session()\n",
    "region_name = boto3_session.region_name\n",
    "sts_client = boto3.client('sts')\n",
    "bedrock_agent_client = boto3_session.client('bedrock-agent', region_name=region_name)\n",
    "service = 'aoss'\n",
    "account_id = sts_client.get_caller_identity()[\"Account\"]\n",
    "s3_suffix = f\"{region_name}-{account_id}\""
   ]
  },
  {
   "cell_type": "markdown",
   "id": "4dc28a19-a2fd-41a4-a5e0-3588467b9497",
   "metadata": {
    "editable": true,
    "slideshow": {
     "slide_type": ""
    },
    "tags": []
   },
   "source": [
    "### Create S3 Bucket for the Knowledge Base Data"
   ]
  },
  {
   "cell_type": "code",
   "execution_count": null,
   "id": "889a011c-1e77-4e4a-bd62-fcefc7372846",
   "metadata": {
    "editable": true,
    "slideshow": {
     "slide_type": ""
    },
    "tags": []
   },
   "outputs": [],
   "source": [
    "# Create an S3 client\n",
    "s3 = boto3.client('s3')\n",
    "\n",
    "# Create an S3 bucket\n",
    "bucket_name = f'rag-data-{s3_suffix}'\n",
    "try:\n",
    "    s3.create_bucket(Bucket=bucket_name)\n",
    "except botocore.exceptions.ClientError as e:\n",
    "    error_code = e.response['Error']['Code']\n",
    "    if error_code == 'BucketAlreadyOwnedByYou':\n",
    "        print(f\"Bucket {bucket_name} already exists.\")\n",
    "    else:\n",
    "        print(f\"Error creating bucket: {e}\")\n",
    "        raise"
   ]
  },
  {
   "cell_type": "markdown",
   "id": "61147074-2642-4655-b929-f15f70ebc46d",
   "metadata": {},
   "source": [
    "# Create a vector store - OpenSearch Serverless index\n",
    "## Step 1 - Create OSS policies and collection"
   ]
  },
  {
   "cell_type": "code",
   "execution_count": null,
   "id": "afdb432a-fd76-4ce3-837a-93f00ce02ab2",
   "metadata": {},
   "outputs": [],
   "source": [
    "vector_store_name = f'bedrock-sample-rag-{suffix}'\n",
    "index_name = f\"bedrock-sample-rag-index-{suffix}\"\n",
    "aoss_client = boto3_session.client('opensearchserverless')\n",
    "bedrock_kb_execution_role = create_bedrock_execution_role(bucket_name=bucket_name)\n",
    "bedrock_kb_execution_role_arn = bedrock_kb_execution_role['Role']['Arn']"
   ]
  },
  {
   "cell_type": "code",
   "execution_count": null,
   "id": "347888d4-b856-46ec-a09f-ade72db9023e",
   "metadata": {},
   "outputs": [],
   "source": [
    "# create security, network and data access policies within OSS\n",
    "encryption_policy, network_policy, access_policy = create_policies_in_oss(vector_store_name=vector_store_name,\n",
    "                       aoss_client=aoss_client,\n",
    "                       bedrock_kb_execution_role_arn=bedrock_kb_execution_role_arn)\n",
    "collection = aoss_client.create_collection(name=vector_store_name,type='VECTORSEARCH')"
   ]
  },
  {
   "cell_type": "code",
   "execution_count": null,
   "id": "18a50167-d020-46b2-a9ba-a6f9d10722e9",
   "metadata": {},
   "outputs": [],
   "source": [
    "collection_id = collection['createCollectionDetail']['id']\n",
    "host = collection_id + '.' + region_name + '.aoss.amazonaws.com'"
   ]
  },
  {
   "cell_type": "code",
   "execution_count": null,
   "id": "0a04bd53-e823-4d7f-9d60-2ac4a3b77c96",
   "metadata": {},
   "outputs": [],
   "source": [
    "response = aoss_client.batch_get_collection(names=[vector_store_name])\n",
    "# Check if the collection exists\n",
    "if 'collectionDetails' in response:\n",
    "    collection_details = response['collectionDetails']\n",
    "    if collection_details:\n",
    "        collection_status = collection_details[0].get('status', None)\n",
    "        if collection_status:\n",
    "            # Check if the collection status is 'ACTIVE'\n",
    "            if collection_status == 'ACTIVE':\n",
    "                print('Collection already exists and is ACTIVE.')\n",
    "            elif collection_status == 'CREATING':\n",
    "                # Collection is still being created, wait for it to become ACTIVE\n",
    "                print('Collection is being created...')\n",
    "                while collection_status == 'CREATING':\n",
    "                    time.sleep(30)  # Wait for 30 seconds\n",
    "                    response = aoss_client.batch_get_collection(names=[vector_store_name])\n",
    "                    collection_details = response.get('collectionDetails', [])\n",
    "                    if collection_details:\n",
    "                        collection_status = collection_details[0].get('status', None)\n",
    "                print('Collection creation completed.')\n",
    "            else:\n",
    "                print(f'Collection status: {collection_status}')\n",
    "        else:\n",
    "            print('Collection status not found in response.')\n",
    "    else:\n",
    "        print('Collection details not found in response.')\n",
    "else:\n",
    "    print('No collection details found in response.')"
   ]
  },
  {
   "cell_type": "code",
   "execution_count": null,
   "id": "e913471d-13b1-41b4-9e6e-4bddde1af6b8",
   "metadata": {},
   "outputs": [],
   "source": [
    "# create oss policy and attach it to Bedrock execution role\n",
    "create_oss_policy_attach_bedrock_execution_role(collection_id=collection_id,\n",
    "                                                bedrock_kb_execution_role=bedrock_kb_execution_role)"
   ]
  },
  {
   "cell_type": "markdown",
   "id": "f31db6c0-a3be-40d0-a980-fbff771723e2",
   "metadata": {},
   "source": [
    "## Step 2 - Create vector index"
   ]
  },
  {
   "cell_type": "code",
   "execution_count": null,
   "id": "bd347e3f-e137-444d-80b0-a2a4f1d20674",
   "metadata": {},
   "outputs": [],
   "source": [
    "from opensearchpy import OpenSearch, RequestsHttpConnection, AWSV4SignerAuth\n",
    "\n",
    "credentials = boto3.Session().get_credentials()\n",
    "awsauth = auth = AWSV4SignerAuth(credentials, region_name, service)\n",
    "\n",
    "index_name = f\"bedrock-sample-index-{suffix}\"\n",
    "body_json = {\n",
    "    \"settings\": {\n",
    "        \"index.knn\": \"true\",\n",
    "        \"number_of_shards\": 1,\n",
    "        \"knn.algo_param.ef_search\": 512,\n",
    "        \"number_of_replicas\": 0,\n",
    "    },\n",
    "    \"mappings\": {\n",
    "        \"properties\": {\n",
    "            \"vector\": {\n",
    "                \"type\": \"knn_vector\",\n",
    "                \"dimension\": 1536,\n",
    "                \"method\": {\n",
    "                    \"name\": \"hnsw\",\n",
    "                    \"engine\": \"faiss\",\n",
    "                    \"space_type\": \"innerproduct\",\n",
    "                    \"parameters\": {\"ef_construction\": 512, \"m\": 16},\n",
    "                },\n",
    "            },\n",
    "            \"text\": {\"type\": \"text\"},\n",
    "            \"text-metadata\": {\"type\": \"text\"},\n",
    "        }\n",
    "    },\n",
    "}\n",
    "# Build the OpenSearch client\n",
    "oss_client = OpenSearch(\n",
    "    hosts=[{\"host\": host, \"port\": 443}],\n",
    "    http_auth=awsauth,\n",
    "    use_ssl=True,\n",
    "    verify_certs=True,\n",
    "    connection_class=RequestsHttpConnection,\n",
    "    timeout=300,\n",
    ")\n",
    "# # It can take up to a minute for data access rules to be enforced\n",
    "time.sleep(60)"
   ]
  },
  {
   "cell_type": "code",
   "execution_count": null,
   "id": "e84b050e-795f-4588-b35a-c5582e59a74c",
   "metadata": {},
   "outputs": [],
   "source": [
    "# Create index\n",
    "response = oss_client.indices.create(index=index_name, body=json.dumps(body_json))\n",
    "print('\\nCreating index:')\n",
    "print(response)\n",
    "time.sleep(60) # index creation can take up to a minute"
   ]
  },
  {
   "cell_type": "markdown",
   "id": "067880f3-0199-43b2-b772-4f7da486effd",
   "metadata": {
    "editable": true,
    "slideshow": {
     "slide_type": ""
    },
    "tags": []
   },
   "source": [
    "### Upoad data to S3 Bucket"
   ]
  },
  {
   "cell_type": "code",
   "execution_count": null,
   "id": "44c37ffc-629f-41bd-9a0e-56e05d00a8e7",
   "metadata": {},
   "outputs": [],
   "source": [
    "folder_path = 'knowledge_data/'  # Specify the folder path (with trailing '/')\n",
    "s3_key = folder_path + 'hypertension.pdf'  # Combine folder path with file name\n",
    "\n",
    "# Upload a CSV file to the S3 bucket\n",
    "local_file_path = 'hypertension.pdf'\n",
    "\n",
    "try:\n",
    "    s3.upload_file(Filename=local_file_path, Bucket=bucket_name, Key=s3_key)\n",
    "    print(f\"File '{local_file_path}' uploaded to '{bucket_name}/{s3_key}'\")\n",
    "except Exception as e:\n",
    "    print(f\"Error uploading file to S3: {e}\")\n",
    "    raise"
   ]
  },
  {
   "cell_type": "markdown",
   "id": "4bbcf22d-4f2b-44f7-97ee-10b2d595a772",
   "metadata": {},
   "source": [
    "## Create Knowledge Base"
   ]
  },
  {
   "cell_type": "code",
   "execution_count": null,
   "id": "9878c2cb-3d4b-4cce-8051-d738a1c528ce",
   "metadata": {},
   "outputs": [],
   "source": [
    "opensearchServerlessConfiguration = {\n",
    "            \"collectionArn\": collection[\"createCollectionDetail\"]['arn'],\n",
    "            \"vectorIndexName\": index_name,\n",
    "            \"fieldMapping\": {\n",
    "                \"vectorField\": \"vector\",\n",
    "                \"textField\": \"text\",\n",
    "                \"metadataField\": \"text-metadata\"\n",
    "            }\n",
    "        }\n",
    "\n",
    "chunkingStrategyConfiguration = {\n",
    "    \"chunkingStrategy\": \"FIXED_SIZE\",\n",
    "    \"fixedSizeChunkingConfiguration\": {\n",
    "        \"maxTokens\": 512,\n",
    "        \"overlapPercentage\": 20\n",
    "    }\n",
    "}\n",
    "\n",
    "s3Configuration = {\n",
    "    \"bucketArn\": f\"arn:aws:s3:::{bucket_name}\",\n",
    "    # \"inclusionPrefixes\":[\"*.*\"] # you can use this if you want to create a KB using data within s3 prefixes.\n",
    "}\n",
    "\n",
    "embeddingModelArn = f\"arn:aws:bedrock:{region_name}::foundation-model/amazon.titan-embed-text-v1\"\n",
    "\n",
    "name = f\"bedrock-sample-knowledge-base-{suffix}\"\n",
    "description = \"Guideline for the pharmacological treatment of hypertension in adults\"\n",
    "roleArn = bedrock_kb_execution_role_arn"
   ]
  },
  {
   "cell_type": "code",
   "execution_count": null,
   "id": "49808fc3-c362-4f36-a7c6-8d038d5d8bcb",
   "metadata": {},
   "outputs": [],
   "source": [
    "# Create a KnowledgeBase\n",
    "from retrying import retry\n",
    "\n",
    "@retry(wait_random_min=1000, wait_random_max=2000,stop_max_attempt_number=7)\n",
    "def create_knowledge_base_func():\n",
    "    create_kb_response = bedrock_agent_client.create_knowledge_base(\n",
    "        name = name,\n",
    "        description = description,\n",
    "        roleArn = roleArn,\n",
    "        knowledgeBaseConfiguration = {\n",
    "            \"type\": \"VECTOR\",\n",
    "            \"vectorKnowledgeBaseConfiguration\": {\n",
    "                \"embeddingModelArn\": embeddingModelArn\n",
    "            }\n",
    "        },\n",
    "        storageConfiguration = {\n",
    "            \"type\": \"OPENSEARCH_SERVERLESS\",\n",
    "            \"opensearchServerlessConfiguration\":opensearchServerlessConfiguration\n",
    "        }\n",
    "    )\n",
    "    return create_kb_response[\"knowledgeBase\"]"
   ]
  },
  {
   "cell_type": "code",
   "execution_count": null,
   "id": "562e74a1-07fe-4379-8466-96533edf4714",
   "metadata": {},
   "outputs": [],
   "source": [
    "try:\n",
    "    kb = create_knowledge_base_func()\n",
    "except Exception as err:\n",
    "    print(f\"{err=}, {type(err)=}\")"
   ]
  },
  {
   "cell_type": "code",
   "execution_count": null,
   "id": "8f769ecf-9a8d-4505-a885-282cbe1fe250",
   "metadata": {},
   "outputs": [],
   "source": [
    "get_kb_response = bedrock_agent_client.get_knowledge_base(knowledgeBaseId = kb['knowledgeBaseId'])"
   ]
  },
  {
   "cell_type": "code",
   "execution_count": null,
   "id": "c46ce30e-4c19-4526-8f37-fa54b33b2af7",
   "metadata": {},
   "outputs": [],
   "source": [
    "# Create a DataSource in KnowledgeBase \n",
    "create_ds_response = bedrock_agent_client.create_data_source(\n",
    "    name = name,\n",
    "    description = description,\n",
    "    knowledgeBaseId = kb['knowledgeBaseId'],\n",
    "    dataSourceConfiguration = {\n",
    "        \"type\": \"S3\",\n",
    "        \"s3Configuration\":s3Configuration\n",
    "    },\n",
    "    vectorIngestionConfiguration = {\n",
    "        \"chunkingConfiguration\": chunkingStrategyConfiguration\n",
    "    }\n",
    ")\n",
    "ds = create_ds_response[\"dataSource\"]"
   ]
  },
  {
   "cell_type": "code",
   "execution_count": null,
   "id": "63fd49c5-2a3b-4e6c-b553-3e2fea05fd6f",
   "metadata": {},
   "outputs": [],
   "source": [
    "# Get DataSource \n",
    "bedrock_agent_client.get_data_source(knowledgeBaseId = kb['knowledgeBaseId'], dataSourceId = ds[\"dataSourceId\"])"
   ]
  },
  {
   "cell_type": "markdown",
   "id": "b7d6c791-a6ab-49d2-a28d-4e5ece232687",
   "metadata": {},
   "source": [
    "### Start ingestion job"
   ]
  },
  {
   "cell_type": "code",
   "execution_count": null,
   "id": "3bd5d6e2-fda8-4698-9d79-3ecd076cc121",
   "metadata": {},
   "outputs": [],
   "source": [
    "# Start an ingestion job\n",
    "start_job_response = bedrock_agent_client.start_ingestion_job(knowledgeBaseId = kb['knowledgeBaseId'], dataSourceId = ds[\"dataSourceId\"])"
   ]
  },
  {
   "cell_type": "code",
   "execution_count": null,
   "id": "4fca4510-ac7a-4c18-aef1-fac7a53d190a",
   "metadata": {},
   "outputs": [],
   "source": [
    "job = start_job_response[\"ingestionJob\"]"
   ]
  },
  {
   "cell_type": "code",
   "execution_count": null,
   "id": "0503cdeb-2e56-4a44-9daf-e427df9ece23",
   "metadata": {},
   "outputs": [],
   "source": [
    "# Get job \n",
    "while(job['status']!='COMPLETE' ):\n",
    "  get_job_response = bedrock_agent_client.get_ingestion_job(\n",
    "      knowledgeBaseId = kb['knowledgeBaseId'],\n",
    "        dataSourceId = ds[\"dataSourceId\"],\n",
    "        ingestionJobId = job[\"ingestionJobId\"]\n",
    "  )\n",
    "  job = get_job_response[\"ingestionJob\"]\n",
    "time.sleep(40)"
   ]
  },
  {
   "cell_type": "code",
   "execution_count": 70,
   "id": "50009089-41fb-4fd4-ab05-b7f1d32bc605",
   "metadata": {},
   "outputs": [],
   "source": [
    "kb_id = \"IURQ2LSCAY\" #kb[\"knowledgeBaseId\"] # After creation, you can just replace this value with your kb id to avoid running cells again"
   ]
  },
  {
   "cell_type": "code",
   "execution_count": 71,
   "id": "9870e512-c5d8-46e9-8301-d7e99bccc0f7",
   "metadata": {},
   "outputs": [
    {
     "name": "stdout",
     "output_type": "stream",
     "text": [
      "Stored 'kb_id' (str)\n"
     ]
    }
   ],
   "source": [
    "%store kb_id"
   ]
  },
  {
   "cell_type": "markdown",
   "id": "68b6bb8c-0ebe-4bad-b853-e9f03fa04169",
   "metadata": {},
   "source": [
    "# Create Patient Database\n",
    "## Step 1 - Create and Upload Files to S3"
   ]
  },
  {
   "cell_type": "code",
   "execution_count": null,
   "id": "08514a56-f80b-47bd-860b-d1b252aa6979",
   "metadata": {},
   "outputs": [],
   "source": [
    "# Create an S3 client\n",
    "s3 = boto3.client('s3')\n",
    "\n",
    "# Create an S3 bucket\n",
    "patient_bucket_name = f'patient-data-{s3_suffix}'\n",
    "\n",
    "try:\n",
    "    s3.create_bucket(Bucket=patient_bucket_name)\n",
    "except botocore.exceptions.ClientError as e:\n",
    "    error_code = e.response['Error']['Code']\n",
    "    if error_code == 'BucketAlreadyOwnedByYou':\n",
    "        print(f\"Bucket {bucket_name} already exists.\")\n",
    "    else:\n",
    "        print(f\"Error creating bucket: {e}\")\n",
    "        raise"
   ]
  },
  {
   "cell_type": "code",
   "execution_count": null,
   "id": "be15839b-f96b-40f2-91f4-4570580d5d07",
   "metadata": {},
   "outputs": [],
   "source": [
    "# Upload a CSV file with ptient data to the S3 bucket\n",
    "local_file_path_2 = 'patient_data.csv'\n",
    "s3_key_dataset = local_file_path_2\n",
    "\n",
    "try:\n",
    "    s3.upload_file(Filename=local_file_path_2, Bucket=patient_bucket_name, Key=s3_key_dataset)\n",
    "except ClientError as e:\n",
    "    print(f\"Error uploading file to S3: {e}\")\n",
    "    raise"
   ]
  },
  {
   "cell_type": "markdown",
   "id": "e5c8f81c-2d38-4ab9-b240-5cbb11c80f3a",
   "metadata": {},
   "source": [
    "## Step 2 - Create DynamoDB table"
   ]
  },
  {
   "cell_type": "code",
   "execution_count": null,
   "id": "d9cff40a-23d8-4fed-abf1-8e3f02c22af2",
   "metadata": {
    "editable": true,
    "slideshow": {
     "slide_type": ""
    },
    "tags": []
   },
   "outputs": [],
   "source": [
    "# Create a DynamoDB client\n",
    "dynamodb = boto3.client('dynamodb')\n",
    "\n",
    "table_name = \"PatientInfo5\" # change to your table name  \n",
    "\n",
    "# Create the DynamoDB table using the import_table client\n",
    "response = dynamodb.import_table(\n",
    "    S3BucketSource={\n",
    "        'S3Bucket': patient_bucket_name,\n",
    "        'S3KeyPrefix': s3_key_dataset\n",
    "    },\n",
    "    InputFormat='CSV',\n",
    "    TableCreationParameters={\n",
    "        'TableName': table_name, \n",
    "        'AttributeDefinitions': [\n",
    "            {\n",
    "                'AttributeName': 'Patient ID',\n",
    "                'AttributeType': 'S'\n",
    "            },\n",
    "        ],\n",
    "        'KeySchema': [\n",
    "            {\n",
    "                'AttributeName': 'Patient ID',\n",
    "                'KeyType': 'HASH'\n",
    "            },\n",
    "        ],\n",
    "        'BillingMode': 'PAY_PER_REQUEST'\n",
    "    }\n",
    ")\n",
    "\n",
    "# Wait for the table to be created\n",
    "# table_status = None\n",
    "# while table_status != 'ACTIVE':\n",
    "#     describe_response = dynamodb.describe_table(TableName=table_name)\n",
    "#     table_status = describe_response['Table']['TableStatus']\n",
    "#     if table_status != 'ACTIVE':\n",
    "#         time.sleep(5)  # Wait for 5 seconds before checking again\n",
    "\n",
    "# print(\"Table created successfully.\")\n"
   ]
  },
  {
   "cell_type": "markdown",
   "id": "24a9d660-d23f-4605-9983-a5497d765bb8",
   "metadata": {},
   "source": [
    "# Generate and Send Recommendations\n",
    "## Step 1 - Retrive info and promp the model"
   ]
  },
  {
   "cell_type": "code",
   "execution_count": 85,
   "id": "08f20c6a-8bdb-4c8c-a29b-d2cc5ee4e074",
   "metadata": {
    "editable": true,
    "slideshow": {
     "slide_type": ""
    },
    "tags": []
   },
   "outputs": [],
   "source": [
    "# Aqui tenho de passar patient_id\n",
    "patient_id = '2'"
   ]
  },
  {
   "cell_type": "code",
   "execution_count": 86,
   "id": "36325c88-8e32-47c0-ba91-64387db0a6d8",
   "metadata": {},
   "outputs": [
    {
     "name": "stdout",
     "output_type": "stream",
     "text": [
      "Patient Information: {'Discharge Date': '2019-06-26', 'Billing Amount': '6185.903529552847', 'Admission Type': 'Emergency', 'Medical Condition': 'Hypertension', 'Medication': 'Paracetamol', 'email': 'awsduda@amazon.es', 'Patient ID': '2', 'Room Number': '126', 'Gender': 'Female', 'Test Results': 'Inconclusive', 'Blood Type': 'O-', 'Date of Admission': '2019-06-09', 'Doctor': 'William Miller', 'Insurance Provider': 'Medicare', 'Hospital': 'Rose Inc', 'Name': 'Mrs. Caroline Farrell', 'Age': '23'}\n"
     ]
    }
   ],
   "source": [
    "try:\n",
    "    # Retrieve item from DynamoDB\n",
    "    response = dynamodb.get_item(\n",
    "        TableName=table_name,\n",
    "        Key={\n",
    "            'Patient ID': {'S': patient_id}\n",
    "        }\n",
    "    )\n",
    "    \n",
    "    # Extract patient information if item exists\n",
    "    item = response.get('Item')\n",
    "    if item:\n",
    "        patient_info = {key: value.get('S') for key, value in item.items()}\n",
    "        print(\"Patient Information:\", patient_info)\n",
    "    else:\n",
    "        print(\"Patient not found\")\n",
    "        patient_info = None\n",
    "\n",
    "except Exception as e:\n",
    "    print(\"Error retrieving patient information:\", e)\n",
    "    patient_info = None\n"
   ]
  },
  {
   "cell_type": "markdown",
   "id": "f6770987-75b2-4976-ae7e-b867d10c17c5",
   "metadata": {},
   "source": [
    "### Get Documents from Knowledge Base"
   ]
  },
  {
   "cell_type": "code",
   "execution_count": 87,
   "id": "258f9b1f-8350-4da0-b2fd-1abe5460f9d5",
   "metadata": {},
   "outputs": [
    {
     "name": "stdout",
     "output_type": "stream",
     "text": [
      "[Document(page_content='Conditional recommendation, low-certainty evidence   Implementation remarks:    [ Suggested tests include serum electrolytes and creatinine, lipid panel, HbA1C or fasting glucose,  urine dipstick, and electrocardiogram (ECG).     [ In low-resourced areas or non-clinical settings, where testing may not be possible because of  additional costs, and lack of access to laboratories and ECG, treatment should not be delayed,  and testing can be done subsequently.     [ Some medicines, such as long-acting dihydropyridine calcium-channel blockers (CCBs) are more  suitable for initiation without testing, compared to diuretics or angiotensin-converting enzyme  inhibitors (ACEi)/angiotensin-II receptor blockers (ARBs).   8        Evidence and rationale   Comparative studies that evaluate various testing strategies prior to the initiation of antihypertensive  treatment were not identified, despite a search of the literature. Therefore, indirect evidence was  sought to evaluate this question. An analytic framework was developed to conceptualize the rationale  for obtaining diagnostic testing, such as laboratory tests and electrocardiogram (ECG), in this context  (see Fig. 2). This framework identified the four most important reasons for obtaining testing, which are  to diagnose secondary HTN, identify comorbidities (e.g. DM), identify end organ damage (e.g. chronic  kidney disease (CKD) or left ventricular hypertrophy (LVH)), and for cardiac risk stratification.    Fig. 2  Framework for analysis   People with  high BP   Laboratory tests ECG   Treatment Patient-important  outcomes   Follow-up tests   PICO 2: No comparative studies    Desirable effects of testing Identification of: • secondary HTN • comorbidities (e.g. DM) • end organ damage (e.g.     CKD, LVH) Opportunity to: • develop cardiac risk    stratification • choose certain medications    over others    direct evidence   Color legend:   indirect evidence   Undesirable effects of  testing • incidental findings • cost • delay in starting treatment   In terms of secondary HTN, various studies suggest a prevalence of 5–10% among patients with a  diagnosis of HTN and a higher prevalence of 10–30% among patients with particularly high BP (e.g.  over 175/115 mmHg) or BP that is resistant to treatment (18, 19, 20).', metadata={'location': {'s3Location': {'uri': 's3://rag-data-us-east-1-336445861055/knowledge_data/hypertension.pdf'}, 'type': 'S3'}, 'score': 1.3912276}),\n",
      " Document(page_content='In addition, relevant subgroups (s) were identified.   1 At what level of blood pressure should pharmacological therapy be started to  prevent cardiovascular events?   P Adult men and women   I Specific systolic and diastolic blood pressure thresholds:*   systolic (mmHg): ≥120, ≥130, ≥140, ≥150   diastolic (mmHg): ≥80, ≥90   C Placebo or systolic or diastolic blood pressure threshold that is higher than intervention  thresholds   O Death (all-cause mortality), cardiovascular death (death from MI, sudden cardiac death or  stroke), stroke, myocardial infarction, end-stage renal disease, cognitive impairment/dementia,  heart failure events and adverse events   s Based on different effect modifiers such as: estimated cardiovascular risk; pre-existing CAD,  stroke, diabetes, age, sex, chronic kidney disease and race/ethnicity   * Each BP threshold in the intervention category (I) will be compared with a higher threshold. For example, I  (<140) will be compared to C (≥140)   2 Is any laboratory testing necessary prior to initiation or during titration of  pharmacological treatments   P Adult men and women requiring antihypertensive treatment   I Initiation or titration of antihypertensives without lab tests   C Initiation or titration of antihypertensives with lab tests   O Death (all-cause mortality), cardiovascular death (death from MI, sudden cardiac death or  stroke), stroke, myocardial infarction, end-stage renal disease and heart failure events, cognitive  impairment/decline   BP control   Time to control BP   Adherence   Adverse effects   Patient satisfaction   s Individual drugs and doses   Patients with no comorbidities   Baseline blood pressure   Type of lab test (ECG, blood, etc)   44        3 Should cardiovascular risk assessment be used to guide initiation of  antihypertensive medications?', metadata={'location': {'s3Location': {'uri': 's3://rag-data-us-east-1-336445861055/knowledge_data/hypertension.pdf'}, 'type': 'S3'}, 'score': 1.3716967}),\n",
      " Document(page_content='CKD, LVH) Opportunity to: • develop cardiac risk    stratification • choose certain medications    over others    direct evidence   Color legend:   indirect evidence   Undesirable effects of  testing • incidental findings • cost • delay in starting treatment   In terms of secondary HTN, various studies suggest a prevalence of 5–10% among patients with a  diagnosis of HTN and a higher prevalence of 10–30% among patients with particularly high BP (e.g.  over 175/115 mmHg) or BP that is resistant to treatment (18, 19, 20). Morbidities and end organ  damage that could be identified by testing patients with HTN are also common. One estimation  indicates that 23%, 24% and 39% of patients with a diagnosis of HTN have one, two, three or more  comorbidities respectively. Common comorbidities among patients with HTN that can be discovered  via laboratory testing are hyperlipidaemia and diabetes, which have a prevalence of 56% and 27%  respectively (21). Testing at the point of starting HTN medications or for subsequent monitoring can  also identify patients who develop certain adverse events after treatment (e.g. hyperkalaemia and  acute kidney injury), thus providing a rationale for testing. Testing also had the additional advantage of  identifying compelling indications for choosing certain medications over others. For example, identifying  diabetes would favour the use of ACEis/ARBs, and identifying hyponatraemia would lead to not starting  diuretics. Overall, the desirable effects of testing were judged to be at least moderate.   The framework also identified the most undesirable effects of obtaining testing, which were delay  of starting treatment, cost and incidental findings. Delay of treatment was judged to be the most  important concern since it can lead to losing the patient for follow up and the potential for adverse  cardiovascular (CV) outcomes. Incidental findings on testing were thought to be less important. The  undesirable effects of testing were judged to have smaller magnitude. On balance, desirable effects are  likely to outweigh undesirable effects. The certainty of evidence across outcome was judged to be very  low due to serious concerns about the indirectness of evidence.', metadata={'location': {'s3Location': {'uri': 's3://rag-data-us-east-1-336445861055/knowledge_data/hypertension.pdf'}, 'type': 'S3'}, 'score': 1.3655298}),\n",
      " Document(page_content='NEJM. 2017;377(8):745-755. doi: 10.1056/NEJMsa1616035.   (16) Odden MC, Moran AE, Coxson PG, Peralta CA, Goldman L, Bibbins-Domingo K. Gait speed as a  guide for BP targets in older adults: a modeling study. J Am Geriatr Soc. 2016;64(5):1015-23.   (17) Federal Reserve Bank economic data [online database] (https://fred.stlouisfed.org/series/ NYGDPPCAPCDLMC). Cited in Kostova et al., 2020.   (18) Pedrosa RP, Drager LF, Gonzaga CC, Sousa MG, de Paula LK, Amaro ACS, et al. Obstructive  sleep apnea: the most common secondary cause of hypertension associated with resistant  hypertension. Hypertension. 2011;58(5):811-7. doi: 10.1161/hypertensionaha.111.179788.    (19) Rimoldi SF, Scherrer U, Messerli FH. Secondary arterial hypertension: when, who, and how to  screen? Eur Heart J. 2013;35(19):1245-54. doi: 10.1093/eurheartj/eht534.   (20) Virani SS, Alonso A, Benjamin EJ, Bittencourt MS, Callaway CW, Carson AP, et al. Heart disease  and stroke statistics – 2020 update: a report from the American Heart Association. Circulation.  2020;141(9):e139-e596. doi: 10.1161/CIR.0000000000000757.   (21) Park C, Fang J, Hawkins NA, Wang G. Comorbidity status and annual total medical  expenditures in US hypertensive adults. Am J Prev Med. 2017;53(6s2):S172-s81. doi: 10.1016/j. amepre.2017.07.014.   (22) Kirkland EB, Heincelman M, Bishu KG, Schumann SO, Schreiner A, Axon RN, et al. Trends in  healthcare expenditures among US adults with hypertension: national estimates, 2003-2014. J  Am Heart Assoc. 2018;7(11):e008731. doi: 10.1161/JAHA.118.008731.    (23) Moser M. The cost of treating hypertension can we keep it under control without compromising  the level of care? Am J Hypertens. 1998;11:120S–127S. doi: 10.1016/s0895-7061(98)00106-x.   (24) Karmali KN, Lloyd-Jones DM, van der Leeuw J, Goff Jr DC, Yusuf S, Zanchetti A, et al.', metadata={'location': {'s3Location': {'uri': 's3://rag-data-us-east-1-336445861055/knowledge_data/hypertension.pdf'}, 'type': 'S3'}, 'score': 1.3444488})]\n"
     ]
    }
   ],
   "source": [
    "# Simulate getting recommendation using BedrockChat\n",
    "# Create the LangChain components\n",
    "from langchain.prompts import PromptTemplate\n",
    "import pprint as pp\n",
    "\n",
    "bedrock_client = boto3.client(\"bedrock-runtime\")\n",
    "\n",
    "model_id = \"anthropic.claude-3-haiku-20240307-v1:0\"\n",
    "llm = BedrockChat(model_id=model_id, client=bedrock_client)\n",
    "\n",
    "question = f\"What recommendations would you give to the patient based on the {patient_info}?\"\n",
    "retriever = AmazonKnowledgeBasesRetriever(\n",
    "    knowledge_base_id=kb_id,\n",
    "    retrieval_config={\n",
    "        \"vectorSearchConfiguration\": {\n",
    "            \"numberOfResults\": 4,\n",
    "            \"overrideSearchType\": \"SEMANTIC\",  # optional\n",
    "        }\n",
    "    },\n",
    ")\n",
    "\n",
    "docs = retriever.get_relevant_documents(\n",
    "        query=question\n",
    "    )\n",
    "pp.pprint(docs)"
   ]
  },
  {
   "cell_type": "markdown",
   "id": "fc304f8c-a39b-4483-bd0d-799d3940c259",
   "metadata": {},
   "source": [
    "### Prompt the Model \n",
    "Here we are prompting the model giving it context, patient info, and guidelines"
   ]
  },
  {
   "cell_type": "code",
   "execution_count": 88,
   "id": "6ce83932-a8d2-4553-8016-97d79ec62a78",
   "metadata": {},
   "outputs": [],
   "source": [
    "PROMPT_TEMPLATE = \"\"\"\n",
    "Human: You are a medical assistant that writes emails to patients based on the medical info you're provided with. \n",
    "You should keep a formal and professional language. \n",
    "You should present yourself as Dr. Claude, the patient's AI medical assistant, and provide next steps for the patient.\n",
    "You should use medical technical terms but should not refer specific studies in your answer.\n",
    "Use the following pieces of information to provide a concise answer to the question enclosed in <question> tags. \n",
    "Correlate the patient's information with the medical info from the context to provide a medically accurate response. \n",
    "\n",
    "<context>\n",
    "{context}\n",
    "</context>\n",
    "\n",
    "<question>\n",
    "{question}\n",
    "</question>\n",
    "\n",
    "Never say \"based on the context or information provided\". It should come across that you already know this knowledge beforehand.\n",
    "\n",
    "Assistant:\"\"\"\n",
    "\n",
    "claude_prompt = PromptTemplate(template=PROMPT_TEMPLATE, \n",
    "                               input_variables=[\"context\", \"question\"])\n"
   ]
  },
  {
   "cell_type": "code",
   "execution_count": 89,
   "id": "89f621b1-c03d-45b7-878a-fb06c2357bd1",
   "metadata": {
    "editable": true,
    "slideshow": {
     "slide_type": ""
    },
    "tags": []
   },
   "outputs": [],
   "source": [
    "from langchain.chains import RetrievalQA\n",
    "\n",
    "qa = RetrievalQA.from_chain_type(\n",
    "    llm=llm,\n",
    "    chain_type=\"stuff\",\n",
    "    retriever=retriever,\n",
    "    return_source_documents=True,\n",
    "    chain_type_kwargs={\"prompt\": claude_prompt}\n",
    ")"
   ]
  },
  {
   "cell_type": "code",
   "execution_count": 90,
   "id": "5bbfca63-080e-4ad7-b45a-f8214e532ea7",
   "metadata": {},
   "outputs": [
    {
     "name": "stdout",
     "output_type": "stream",
     "text": [
      "('Dear Mrs. Caroline Farrell,\\n'\n",
      " '\\n'\n",
      " 'I hope this email finds you well. As your AI medical assistant, Dr. Claude, '\n",
      " 'I wanted to provide you with some recommendations based on the information I '\n",
      " 'have regarding your recent hospital visit.\\n'\n",
      " '\\n'\n",
      " 'Given that you were admitted for hypertension, a common and serious medical '\n",
      " 'condition, it is important that we take the appropriate next steps to manage '\n",
      " 'your blood pressure effectively. Since the test results from your recent '\n",
      " 'visit were inconclusive, I would recommend the following:\\n'\n",
      " '\\n'\n",
      " '1. Conduct further laboratory testing, including serum electrolytes, '\n",
      " 'creatinine, lipid panel, HbA1C or fasting glucose, and a urine dipstick '\n",
      " 'analysis. These tests will help us assess your overall health status and '\n",
      " 'identify any underlying conditions that may be contributing to your '\n",
      " 'hypertension.\\n'\n",
      " '\\n'\n",
      " '2. Obtain an electrocardiogram (ECG) to evaluate your heart function and '\n",
      " 'rule out any potential cardiovascular complications.\\n'\n",
      " '\\n'\n",
      " '3. Based on the results of these tests, we can then determine the most '\n",
      " 'appropriate medication regimen for you. In the meantime, I would suggest '\n",
      " 'starting a long-acting dihydropyridine calcium-channel blocker, as these '\n",
      " 'medications are often well-tolerated and can be initiated without extensive '\n",
      " 'testing.\\n'\n",
      " '\\n'\n",
      " 'It is crucial that we address your hypertension promptly to prevent any '\n",
      " 'potential long-term complications, such as stroke, heart disease, or kidney '\n",
      " 'damage. Please schedule a follow-up appointment with me as soon as possible '\n",
      " 'so we can review the test results and develop a comprehensive treatment '\n",
      " 'plan.\\n'\n",
      " '\\n'\n",
      " 'If you have any questions or concerns, please do not hesitate to reach out. '\n",
      " 'I am here to support you throughout this process.\\n'\n",
      " '\\n'\n",
      " 'Best regards,\\n'\n",
      " 'Dr. Claude\\n'\n",
      " 'Your AI Medical Assistant')\n"
     ]
    }
   ],
   "source": [
    "answer = qa.invoke(question)\n",
    "\n",
    "recommendation = answer['result']\n",
    "\n",
    "pp.pprint(recommendation)"
   ]
  },
  {
   "cell_type": "markdown",
   "id": "3c204555-d9e1-40f2-b32e-ac3b0630fd79",
   "metadata": {},
   "source": [
    "## Step 2 - Create SNS Topic and Send email"
   ]
  },
  {
   "cell_type": "markdown",
   "id": "2a9cf0c4-c4fc-49cf-995b-f249c4e6329b",
   "metadata": {},
   "source": [
    "Creating the SNS Topic "
   ]
  },
  {
   "cell_type": "code",
   "execution_count": null,
   "id": "0a43039d-004d-4744-ba45-725d9725221d",
   "metadata": {},
   "outputs": [],
   "source": [
    "# Create an SNS client\n",
    "sns = boto3.client('sns')\n",
    "\n",
    "# Create an SNS topic\n",
    "topic_name = \"drclaude2\"\n",
    "response = sns.create_topic(Name=topic_name)\n",
    "topic_arn = response['TopicArn']\n",
    "print(f\"Created SNS topic: {topic_name}\")"
   ]
  },
  {
   "cell_type": "markdown",
   "id": "7031f4e3-978d-4abc-a1e6-e9001f198df0",
   "metadata": {},
   "source": [
    "Subscribing to the topic"
   ]
  },
  {
   "cell_type": "code",
   "execution_count": 92,
   "id": "1557815b-23df-4118-a7c1-378620164eaf",
   "metadata": {},
   "outputs": [
    {
     "name": "stdout",
     "output_type": "stream",
     "text": [
      "Subscribed email awsduda@amazon.es to topic drclaude2\n",
      "\n",
      "Check your inbox to confirm the subscription!\n"
     ]
    }
   ],
   "source": [
    "# Subscribe an email to the SNS topic\n",
    "patient_email = patient_info[\"email\"]\n",
    "\n",
    "email_address = \"awsduda@amazon.es\" # put your own email here \n",
    "\n",
    "subscription_response = sns.subscribe(\n",
    "    TopicArn=topic_arn,\n",
    "    Protocol=\"email\",\n",
    "    Endpoint=patient_email,\n",
    "    Attributes={\"FilterPolicy\": '{\"email\": [\"' + patient_email + '\"]}'}\n",
    ")\n",
    "\n",
    "print(f\"Subscribed email {email_address} to topic {topic_name}\\n\")\n",
    "print(\"Check your inbox to confirm the subscription!\")"
   ]
  },
  {
   "cell_type": "markdown",
   "id": "9a04f7cc-2b38-48b6-8f1d-7d8b62b8b39b",
   "metadata": {},
   "source": [
    "Checking if patient email is subscribed to the topic and sening it upon confirmation"
   ]
  },
  {
   "cell_type": "code",
   "execution_count": 93,
   "id": "2a4f78b4-046e-4932-8360-62d5108907ce",
   "metadata": {
    "editable": true,
    "slideshow": {
     "slide_type": ""
    },
    "tags": []
   },
   "outputs": [
    {
     "name": "stdout",
     "output_type": "stream",
     "text": [
      "Email sent successfully.\n",
      "Response: {'MessageId': '0d51e0bf-6ce5-590c-bbf5-be3f8bfd15b2', 'ResponseMetadata': {'RequestId': '74cdaa34-53bb-58cd-b216-f4b4b4a3f473', 'HTTPStatusCode': 200, 'HTTPHeaders': {'x-amzn-requestid': '74cdaa34-53bb-58cd-b216-f4b4b4a3f473', 'date': 'Fri, 29 Mar 2024 15:57:12 GMT', 'content-type': 'text/xml', 'content-length': '294', 'connection': 'keep-alive'}, 'RetryAttempts': 0}}\n"
     ]
    }
   ],
   "source": [
    "# Check if the patient's email is subscribed to the SNS topic\n",
    "response = sns.list_subscriptions_by_topic(\n",
    "    TopicArn=topic_arn\n",
    ")\n",
    "\n",
    "# Extract the list of subscribed emails\n",
    "subscribed_emails = [\n",
    "    subscription[\"Endpoint\"] for subscription in response[\"Subscriptions\"]\n",
    "]\n",
    "\n",
    "# If the patient's email is subscribed, send the email\n",
    "if patient_email in subscribed_emails:\n",
    "    # Set the email subject and message\n",
    "    subject = \"Dr. Claude's Medical Recommendations\"\n",
    "    message = f\"{recommendation}\"\n",
    "\n",
    "    # Send the email using SNS\n",
    "    response = sns.publish(\n",
    "        TopicArn= topic_arn,\n",
    "        Subject=subject,\n",
    "        Message=message,\n",
    "        MessageAttributes={\n",
    "            \"email\": {\"DataType\": \"String\", \"StringValue\": patient_email}\n",
    "        },\n",
    "    )\n",
    "    print(\"Email sent successfully.\")\n",
    "    print(\"Response:\", response)\n",
    "else:\n",
    "    print(f\"The patient's email ({patient_email}) is not subscribed to the SNS topic.\")\n"
   ]
  },
  {
   "cell_type": "code",
   "execution_count": null,
   "id": "43ec0a37-7ec3-4086-a35b-df1b6fa7cad8",
   "metadata": {},
   "outputs": [],
   "source": []
  }
 ],
 "metadata": {
  "availableInstances": [
   {
    "_defaultOrder": 0,
    "_isFastLaunch": true,
    "category": "General purpose",
    "gpuNum": 0,
    "hideHardwareSpecs": false,
    "memoryGiB": 4,
    "name": "ml.t3.medium",
    "vcpuNum": 2
   },
   {
    "_defaultOrder": 1,
    "_isFastLaunch": false,
    "category": "General purpose",
    "gpuNum": 0,
    "hideHardwareSpecs": false,
    "memoryGiB": 8,
    "name": "ml.t3.large",
    "vcpuNum": 2
   },
   {
    "_defaultOrder": 2,
    "_isFastLaunch": false,
    "category": "General purpose",
    "gpuNum": 0,
    "hideHardwareSpecs": false,
    "memoryGiB": 16,
    "name": "ml.t3.xlarge",
    "vcpuNum": 4
   },
   {
    "_defaultOrder": 3,
    "_isFastLaunch": false,
    "category": "General purpose",
    "gpuNum": 0,
    "hideHardwareSpecs": false,
    "memoryGiB": 32,
    "name": "ml.t3.2xlarge",
    "vcpuNum": 8
   },
   {
    "_defaultOrder": 4,
    "_isFastLaunch": true,
    "category": "General purpose",
    "gpuNum": 0,
    "hideHardwareSpecs": false,
    "memoryGiB": 8,
    "name": "ml.m5.large",
    "vcpuNum": 2
   },
   {
    "_defaultOrder": 5,
    "_isFastLaunch": false,
    "category": "General purpose",
    "gpuNum": 0,
    "hideHardwareSpecs": false,
    "memoryGiB": 16,
    "name": "ml.m5.xlarge",
    "vcpuNum": 4
   },
   {
    "_defaultOrder": 6,
    "_isFastLaunch": false,
    "category": "General purpose",
    "gpuNum": 0,
    "hideHardwareSpecs": false,
    "memoryGiB": 32,
    "name": "ml.m5.2xlarge",
    "vcpuNum": 8
   },
   {
    "_defaultOrder": 7,
    "_isFastLaunch": false,
    "category": "General purpose",
    "gpuNum": 0,
    "hideHardwareSpecs": false,
    "memoryGiB": 64,
    "name": "ml.m5.4xlarge",
    "vcpuNum": 16
   },
   {
    "_defaultOrder": 8,
    "_isFastLaunch": false,
    "category": "General purpose",
    "gpuNum": 0,
    "hideHardwareSpecs": false,
    "memoryGiB": 128,
    "name": "ml.m5.8xlarge",
    "vcpuNum": 32
   },
   {
    "_defaultOrder": 9,
    "_isFastLaunch": false,
    "category": "General purpose",
    "gpuNum": 0,
    "hideHardwareSpecs": false,
    "memoryGiB": 192,
    "name": "ml.m5.12xlarge",
    "vcpuNum": 48
   },
   {
    "_defaultOrder": 10,
    "_isFastLaunch": false,
    "category": "General purpose",
    "gpuNum": 0,
    "hideHardwareSpecs": false,
    "memoryGiB": 256,
    "name": "ml.m5.16xlarge",
    "vcpuNum": 64
   },
   {
    "_defaultOrder": 11,
    "_isFastLaunch": false,
    "category": "General purpose",
    "gpuNum": 0,
    "hideHardwareSpecs": false,
    "memoryGiB": 384,
    "name": "ml.m5.24xlarge",
    "vcpuNum": 96
   },
   {
    "_defaultOrder": 12,
    "_isFastLaunch": false,
    "category": "General purpose",
    "gpuNum": 0,
    "hideHardwareSpecs": false,
    "memoryGiB": 8,
    "name": "ml.m5d.large",
    "vcpuNum": 2
   },
   {
    "_defaultOrder": 13,
    "_isFastLaunch": false,
    "category": "General purpose",
    "gpuNum": 0,
    "hideHardwareSpecs": false,
    "memoryGiB": 16,
    "name": "ml.m5d.xlarge",
    "vcpuNum": 4
   },
   {
    "_defaultOrder": 14,
    "_isFastLaunch": false,
    "category": "General purpose",
    "gpuNum": 0,
    "hideHardwareSpecs": false,
    "memoryGiB": 32,
    "name": "ml.m5d.2xlarge",
    "vcpuNum": 8
   },
   {
    "_defaultOrder": 15,
    "_isFastLaunch": false,
    "category": "General purpose",
    "gpuNum": 0,
    "hideHardwareSpecs": false,
    "memoryGiB": 64,
    "name": "ml.m5d.4xlarge",
    "vcpuNum": 16
   },
   {
    "_defaultOrder": 16,
    "_isFastLaunch": false,
    "category": "General purpose",
    "gpuNum": 0,
    "hideHardwareSpecs": false,
    "memoryGiB": 128,
    "name": "ml.m5d.8xlarge",
    "vcpuNum": 32
   },
   {
    "_defaultOrder": 17,
    "_isFastLaunch": false,
    "category": "General purpose",
    "gpuNum": 0,
    "hideHardwareSpecs": false,
    "memoryGiB": 192,
    "name": "ml.m5d.12xlarge",
    "vcpuNum": 48
   },
   {
    "_defaultOrder": 18,
    "_isFastLaunch": false,
    "category": "General purpose",
    "gpuNum": 0,
    "hideHardwareSpecs": false,
    "memoryGiB": 256,
    "name": "ml.m5d.16xlarge",
    "vcpuNum": 64
   },
   {
    "_defaultOrder": 19,
    "_isFastLaunch": false,
    "category": "General purpose",
    "gpuNum": 0,
    "hideHardwareSpecs": false,
    "memoryGiB": 384,
    "name": "ml.m5d.24xlarge",
    "vcpuNum": 96
   },
   {
    "_defaultOrder": 20,
    "_isFastLaunch": false,
    "category": "General purpose",
    "gpuNum": 0,
    "hideHardwareSpecs": true,
    "memoryGiB": 0,
    "name": "ml.geospatial.interactive",
    "supportedImageNames": [
     "sagemaker-geospatial-v1-0"
    ],
    "vcpuNum": 0
   },
   {
    "_defaultOrder": 21,
    "_isFastLaunch": true,
    "category": "Compute optimized",
    "gpuNum": 0,
    "hideHardwareSpecs": false,
    "memoryGiB": 4,
    "name": "ml.c5.large",
    "vcpuNum": 2
   },
   {
    "_defaultOrder": 22,
    "_isFastLaunch": false,
    "category": "Compute optimized",
    "gpuNum": 0,
    "hideHardwareSpecs": false,
    "memoryGiB": 8,
    "name": "ml.c5.xlarge",
    "vcpuNum": 4
   },
   {
    "_defaultOrder": 23,
    "_isFastLaunch": false,
    "category": "Compute optimized",
    "gpuNum": 0,
    "hideHardwareSpecs": false,
    "memoryGiB": 16,
    "name": "ml.c5.2xlarge",
    "vcpuNum": 8
   },
   {
    "_defaultOrder": 24,
    "_isFastLaunch": false,
    "category": "Compute optimized",
    "gpuNum": 0,
    "hideHardwareSpecs": false,
    "memoryGiB": 32,
    "name": "ml.c5.4xlarge",
    "vcpuNum": 16
   },
   {
    "_defaultOrder": 25,
    "_isFastLaunch": false,
    "category": "Compute optimized",
    "gpuNum": 0,
    "hideHardwareSpecs": false,
    "memoryGiB": 72,
    "name": "ml.c5.9xlarge",
    "vcpuNum": 36
   },
   {
    "_defaultOrder": 26,
    "_isFastLaunch": false,
    "category": "Compute optimized",
    "gpuNum": 0,
    "hideHardwareSpecs": false,
    "memoryGiB": 96,
    "name": "ml.c5.12xlarge",
    "vcpuNum": 48
   },
   {
    "_defaultOrder": 27,
    "_isFastLaunch": false,
    "category": "Compute optimized",
    "gpuNum": 0,
    "hideHardwareSpecs": false,
    "memoryGiB": 144,
    "name": "ml.c5.18xlarge",
    "vcpuNum": 72
   },
   {
    "_defaultOrder": 28,
    "_isFastLaunch": false,
    "category": "Compute optimized",
    "gpuNum": 0,
    "hideHardwareSpecs": false,
    "memoryGiB": 192,
    "name": "ml.c5.24xlarge",
    "vcpuNum": 96
   },
   {
    "_defaultOrder": 29,
    "_isFastLaunch": true,
    "category": "Accelerated computing",
    "gpuNum": 1,
    "hideHardwareSpecs": false,
    "memoryGiB": 16,
    "name": "ml.g4dn.xlarge",
    "vcpuNum": 4
   },
   {
    "_defaultOrder": 30,
    "_isFastLaunch": false,
    "category": "Accelerated computing",
    "gpuNum": 1,
    "hideHardwareSpecs": false,
    "memoryGiB": 32,
    "name": "ml.g4dn.2xlarge",
    "vcpuNum": 8
   },
   {
    "_defaultOrder": 31,
    "_isFastLaunch": false,
    "category": "Accelerated computing",
    "gpuNum": 1,
    "hideHardwareSpecs": false,
    "memoryGiB": 64,
    "name": "ml.g4dn.4xlarge",
    "vcpuNum": 16
   },
   {
    "_defaultOrder": 32,
    "_isFastLaunch": false,
    "category": "Accelerated computing",
    "gpuNum": 1,
    "hideHardwareSpecs": false,
    "memoryGiB": 128,
    "name": "ml.g4dn.8xlarge",
    "vcpuNum": 32
   },
   {
    "_defaultOrder": 33,
    "_isFastLaunch": false,
    "category": "Accelerated computing",
    "gpuNum": 4,
    "hideHardwareSpecs": false,
    "memoryGiB": 192,
    "name": "ml.g4dn.12xlarge",
    "vcpuNum": 48
   },
   {
    "_defaultOrder": 34,
    "_isFastLaunch": false,
    "category": "Accelerated computing",
    "gpuNum": 1,
    "hideHardwareSpecs": false,
    "memoryGiB": 256,
    "name": "ml.g4dn.16xlarge",
    "vcpuNum": 64
   },
   {
    "_defaultOrder": 35,
    "_isFastLaunch": false,
    "category": "Accelerated computing",
    "gpuNum": 1,
    "hideHardwareSpecs": false,
    "memoryGiB": 61,
    "name": "ml.p3.2xlarge",
    "vcpuNum": 8
   },
   {
    "_defaultOrder": 36,
    "_isFastLaunch": false,
    "category": "Accelerated computing",
    "gpuNum": 4,
    "hideHardwareSpecs": false,
    "memoryGiB": 244,
    "name": "ml.p3.8xlarge",
    "vcpuNum": 32
   },
   {
    "_defaultOrder": 37,
    "_isFastLaunch": false,
    "category": "Accelerated computing",
    "gpuNum": 8,
    "hideHardwareSpecs": false,
    "memoryGiB": 488,
    "name": "ml.p3.16xlarge",
    "vcpuNum": 64
   },
   {
    "_defaultOrder": 38,
    "_isFastLaunch": false,
    "category": "Accelerated computing",
    "gpuNum": 8,
    "hideHardwareSpecs": false,
    "memoryGiB": 768,
    "name": "ml.p3dn.24xlarge",
    "vcpuNum": 96
   },
   {
    "_defaultOrder": 39,
    "_isFastLaunch": false,
    "category": "Memory Optimized",
    "gpuNum": 0,
    "hideHardwareSpecs": false,
    "memoryGiB": 16,
    "name": "ml.r5.large",
    "vcpuNum": 2
   },
   {
    "_defaultOrder": 40,
    "_isFastLaunch": false,
    "category": "Memory Optimized",
    "gpuNum": 0,
    "hideHardwareSpecs": false,
    "memoryGiB": 32,
    "name": "ml.r5.xlarge",
    "vcpuNum": 4
   },
   {
    "_defaultOrder": 41,
    "_isFastLaunch": false,
    "category": "Memory Optimized",
    "gpuNum": 0,
    "hideHardwareSpecs": false,
    "memoryGiB": 64,
    "name": "ml.r5.2xlarge",
    "vcpuNum": 8
   },
   {
    "_defaultOrder": 42,
    "_isFastLaunch": false,
    "category": "Memory Optimized",
    "gpuNum": 0,
    "hideHardwareSpecs": false,
    "memoryGiB": 128,
    "name": "ml.r5.4xlarge",
    "vcpuNum": 16
   },
   {
    "_defaultOrder": 43,
    "_isFastLaunch": false,
    "category": "Memory Optimized",
    "gpuNum": 0,
    "hideHardwareSpecs": false,
    "memoryGiB": 256,
    "name": "ml.r5.8xlarge",
    "vcpuNum": 32
   },
   {
    "_defaultOrder": 44,
    "_isFastLaunch": false,
    "category": "Memory Optimized",
    "gpuNum": 0,
    "hideHardwareSpecs": false,
    "memoryGiB": 384,
    "name": "ml.r5.12xlarge",
    "vcpuNum": 48
   },
   {
    "_defaultOrder": 45,
    "_isFastLaunch": false,
    "category": "Memory Optimized",
    "gpuNum": 0,
    "hideHardwareSpecs": false,
    "memoryGiB": 512,
    "name": "ml.r5.16xlarge",
    "vcpuNum": 64
   },
   {
    "_defaultOrder": 46,
    "_isFastLaunch": false,
    "category": "Memory Optimized",
    "gpuNum": 0,
    "hideHardwareSpecs": false,
    "memoryGiB": 768,
    "name": "ml.r5.24xlarge",
    "vcpuNum": 96
   },
   {
    "_defaultOrder": 47,
    "_isFastLaunch": false,
    "category": "Accelerated computing",
    "gpuNum": 1,
    "hideHardwareSpecs": false,
    "memoryGiB": 16,
    "name": "ml.g5.xlarge",
    "vcpuNum": 4
   },
   {
    "_defaultOrder": 48,
    "_isFastLaunch": false,
    "category": "Accelerated computing",
    "gpuNum": 1,
    "hideHardwareSpecs": false,
    "memoryGiB": 32,
    "name": "ml.g5.2xlarge",
    "vcpuNum": 8
   },
   {
    "_defaultOrder": 49,
    "_isFastLaunch": false,
    "category": "Accelerated computing",
    "gpuNum": 1,
    "hideHardwareSpecs": false,
    "memoryGiB": 64,
    "name": "ml.g5.4xlarge",
    "vcpuNum": 16
   },
   {
    "_defaultOrder": 50,
    "_isFastLaunch": false,
    "category": "Accelerated computing",
    "gpuNum": 1,
    "hideHardwareSpecs": false,
    "memoryGiB": 128,
    "name": "ml.g5.8xlarge",
    "vcpuNum": 32
   },
   {
    "_defaultOrder": 51,
    "_isFastLaunch": false,
    "category": "Accelerated computing",
    "gpuNum": 1,
    "hideHardwareSpecs": false,
    "memoryGiB": 256,
    "name": "ml.g5.16xlarge",
    "vcpuNum": 64
   },
   {
    "_defaultOrder": 52,
    "_isFastLaunch": false,
    "category": "Accelerated computing",
    "gpuNum": 4,
    "hideHardwareSpecs": false,
    "memoryGiB": 192,
    "name": "ml.g5.12xlarge",
    "vcpuNum": 48
   },
   {
    "_defaultOrder": 53,
    "_isFastLaunch": false,
    "category": "Accelerated computing",
    "gpuNum": 4,
    "hideHardwareSpecs": false,
    "memoryGiB": 384,
    "name": "ml.g5.24xlarge",
    "vcpuNum": 96
   },
   {
    "_defaultOrder": 54,
    "_isFastLaunch": false,
    "category": "Accelerated computing",
    "gpuNum": 8,
    "hideHardwareSpecs": false,
    "memoryGiB": 768,
    "name": "ml.g5.48xlarge",
    "vcpuNum": 192
   },
   {
    "_defaultOrder": 55,
    "_isFastLaunch": false,
    "category": "Accelerated computing",
    "gpuNum": 8,
    "hideHardwareSpecs": false,
    "memoryGiB": 1152,
    "name": "ml.p4d.24xlarge",
    "vcpuNum": 96
   },
   {
    "_defaultOrder": 56,
    "_isFastLaunch": false,
    "category": "Accelerated computing",
    "gpuNum": 8,
    "hideHardwareSpecs": false,
    "memoryGiB": 1152,
    "name": "ml.p4de.24xlarge",
    "vcpuNum": 96
   },
   {
    "_defaultOrder": 57,
    "_isFastLaunch": false,
    "category": "Accelerated computing",
    "gpuNum": 0,
    "hideHardwareSpecs": false,
    "memoryGiB": 32,
    "name": "ml.trn1.2xlarge",
    "vcpuNum": 8
   },
   {
    "_defaultOrder": 58,
    "_isFastLaunch": false,
    "category": "Accelerated computing",
    "gpuNum": 0,
    "hideHardwareSpecs": false,
    "memoryGiB": 512,
    "name": "ml.trn1.32xlarge",
    "vcpuNum": 128
   },
   {
    "_defaultOrder": 59,
    "_isFastLaunch": false,
    "category": "Accelerated computing",
    "gpuNum": 0,
    "hideHardwareSpecs": false,
    "memoryGiB": 512,
    "name": "ml.trn1n.32xlarge",
    "vcpuNum": 128
   }
  ],
  "instance_type": "ml.t3.medium",
  "kernelspec": {
   "display_name": "Python 3 (ipykernel)",
   "language": "python",
   "name": "python3"
  },
  "language_info": {
   "codemirror_mode": {
    "name": "ipython",
    "version": 3
   },
   "file_extension": ".py",
   "mimetype": "text/x-python",
   "name": "python",
   "nbconvert_exporter": "python",
   "pygments_lexer": "ipython3",
   "version": "3.10.13"
  }
 },
 "nbformat": 4,
 "nbformat_minor": 5
}
