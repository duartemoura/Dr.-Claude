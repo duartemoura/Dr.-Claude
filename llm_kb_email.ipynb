{
 "cells": [
  {
   "cell_type": "markdown",
   "id": "be436297-d897-40d2-ab78-cdbf146ce542",
   "metadata": {},
   "source": [
    "# Dr. Claude - Patient Care with AWS\n",
    "## Personalized Medical Recommendations using Bedrock, DynamoDb, and SNS\n",
    "### In this notebook we will:\n",
    "- Create a vector store with OpenSearch Serverless\n",
    "- Create a Knowledge Base with Amazon Bedrock\n",
    "- Create a database for patient info with DynamoDB\n",
    "- Query Anthropic's Claude 3 model for medical recommendations\n",
    "- Create SNS topic and send the recommendations\n",
    "\n",
    "### Prerequisites \n",
    "Add the following permissions to your SageMaker Domain role:\n",
    "- AmazonBedrockFullAccess \n",
    "- AmazonDynamoDBFullAccess\n",
    "- AmazonSNSFullAccess\n",
    "- IAMFullAccess\n",
    "- Add a custom [policy](./aoss_policy.json) for Amazon OpenSearch Serverless.\n"
   ]
  },
  {
   "cell_type": "markdown",
   "id": "1dfd1ab3-d167-42f4-a083-132e95e381d8",
   "metadata": {},
   "source": [
    "## Setup\n",
    "Before running the rest of this notebook, you'll need to run the cells below to ensure necessary libraries are installed and connect to Bedrock."
   ]
  },
  {
   "cell_type": "code",
   "execution_count": null,
   "id": "9120c2dc-2793-48f2-abe7-0c3bb2805e0d",
   "metadata": {
    "editable": true,
    "slideshow": {
     "slide_type": ""
    },
    "tags": []
   },
   "outputs": [],
   "source": [
    "%pip install --upgrade pip --quiet\n",
    "%pip install boto3 botocore langchain opensearch-py==2.3.1 --quiet"
   ]
  },
  {
   "cell_type": "markdown",
   "id": "d20ce1c0-2f27-4e95-b4f6-2b63623de730",
   "metadata": {},
   "source": [
    "### Importing Libraries \n",
    "Import necessary libraries and perform initial setup required for subsequent AWS service interactions."
   ]
  },
  {
   "cell_type": "code",
   "execution_count": null,
   "id": "82714b89-e788-4a1f-82da-20b9317fa71b",
   "metadata": {
    "editable": true,
    "slideshow": {
     "slide_type": ""
    },
    "tags": []
   },
   "outputs": [],
   "source": [
    "import boto3\n",
    "import botocore\n",
    "from botocore.exceptions import ClientError\n",
    "import json\n",
    "import csv\n",
    "from io import StringIO\n",
    "from langchain_community.chat_models import BedrockChat\n",
    "from langchain_core.prompts import ChatPromptTemplate\n",
    "from langchain.retrievers.bedrock import AmazonKnowledgeBasesRetriever\n",
    "import random\n",
    "import pprint\n",
    "import time\n",
    "from policy_creator import create_bedrock_execution_role, create_oss_policy_attach_bedrock_execution_role, create_policies_in_oss\n",
    "suffix = random.randrange(200, 900)\n",
    "\n",
    "boto3_session = boto3.session.Session()\n",
    "region_name = boto3_session.region_name\n",
    "sts_client = boto3.client('sts')\n",
    "bedrock_agent_client = boto3_session.client('bedrock-agent', region_name=region_name)\n",
    "service = 'aoss'\n",
    "account_id = sts_client.get_caller_identity()[\"Account\"]\n",
    "s3_suffix = f\"{region_name}-{account_id}\""
   ]
  },
  {
   "cell_type": "markdown",
   "id": "4dc28a19-a2fd-41a4-a5e0-3588467b9497",
   "metadata": {
    "editable": true,
    "slideshow": {
     "slide_type": ""
    },
    "tags": []
   },
   "source": [
    "### Create S3 Bucket for the Knowledge Base Data\n",
    "Create an S3 bucket which will be used to store data. If the bucket already exists, catch the error and notify the user."
   ]
  },
  {
   "cell_type": "code",
   "execution_count": null,
   "id": "889a011c-1e77-4e4a-bd62-fcefc7372846",
   "metadata": {
    "editable": true,
    "slideshow": {
     "slide_type": ""
    },
    "tags": []
   },
   "outputs": [],
   "source": [
    "# Create an S3 client\n",
    "s3 = boto3.client(\"s3\")\n",
    "\n",
    "# Create an S3 bucket\n",
    "bucket_name = f\"rag-data-{s3_suffix}\"\n",
    "try:\n",
    "    s3.create_bucket(Bucket=bucket_name)\n",
    "except botocore.exceptions.ClientError as e:\n",
    "    error_code = e.response[\"Error\"][\"Code\"]\n",
    "    if error_code == \"BucketAlreadyOwnedByYou\":\n",
    "        print(f\"Bucket {bucket_name} already exists.\")\n",
    "    else:\n",
    "        print(f\"Error creating bucket: {e}\")\n",
    "        raise"
   ]
  },
  {
   "cell_type": "markdown",
   "id": "61147074-2642-4655-b929-f15f70ebc46d",
   "metadata": {},
   "source": [
    "# Create a vector store - OpenSearch Serverless index\n",
    "## Step 1 - Create policies and collection"
   ]
  },
  {
   "cell_type": "markdown",
   "id": "25cc8a80-1b4b-48d0-a589-cdf3f4b0ba09",
   "metadata": {},
   "source": [
    "Setup a vector store and create an execution role. This is necessary for the bedrock agent to operate within AWS."
   ]
  },
  {
   "cell_type": "code",
   "execution_count": null,
   "id": "afdb432a-fd76-4ce3-837a-93f00ce02ab2",
   "metadata": {},
   "outputs": [],
   "source": [
    "\n",
    "vector_store_name = f'bedrock-sample-rag-{suffix}'\n",
    "index_name = f\"bedrock-sample-rag-index-{suffix}\"\n",
    "aoss_client = boto3_session.client('opensearchserverless')\n",
    "\n",
    "# Create an execution role for bedrock knowledge bases\n",
    "bedrock_kb_execution_role = create_bedrock_execution_role(bucket_name=bucket_name)\n",
    "bedrock_kb_execution_role_arn = bedrock_kb_execution_role['Role']['Arn']\n"
   ]
  },
  {
   "cell_type": "code",
   "execution_count": null,
   "id": "347888d4-b856-46ec-a09f-ade72db9023e",
   "metadata": {},
   "outputs": [],
   "source": [
    "\n",
    "# Create security, network and data access policies within OSS\n",
    "encryption_policy, network_policy, access_policy = create_policies_in_oss(\n",
    "    vector_store_name=vector_store_name,\n",
    "    aoss_client=aoss_client,\n",
    "    bedrock_kb_execution_role_arn=bedrock_kb_execution_role_arn,\n",
    ")\n",
    "\n",
    "# Create a collection for vector search\n",
    "collection = aoss_client.create_collection(name=vector_store_name, type=\"VECTORSEARCH\")\n"
   ]
  },
  {
   "cell_type": "code",
   "execution_count": null,
   "id": "18a50167-d020-46b2-a9ba-a6f9d10722e9",
   "metadata": {},
   "outputs": [],
   "source": [
    "collection_id = collection['createCollectionDetail']['id']\n",
    "host = collection_id + '.' + region_name + '.aoss.amazonaws.com'"
   ]
  },
  {
   "cell_type": "markdown",
   "id": "e313f531-056a-4d00-acd8-8685af0d8e12",
   "metadata": {},
   "source": [
    "This checks if the collection exists and waits for it to become active if it's still being created. It prints the collection's status, ensuring it's ready for use before moving on. The process involves:\n",
    "\n",
    "1. **Checking if Active**: Confirms if the collection is ready.\n",
    "2. **Waiting if Creating**: Waits and checks every 30 seconds if the collection is still being set up.\n",
    "3. **Handling Non-existence**: Alerts if the collection doesn't exist.\n",
    "4. **Reporting Other Statuses**: Notes any other collection status for troubleshooting.\n"
   ]
  },
  {
   "cell_type": "code",
   "execution_count": null,
   "id": "0a04bd53-e823-4d7f-9d60-2ac4a3b77c96",
   "metadata": {},
   "outputs": [],
   "source": [
    "response = aoss_client.batch_get_collection(names=[vector_store_name])\n",
    "\n",
    "# Initial check for collection existence and extraction of status\n",
    "collection_exists = \"collectionDetails\" in response and response[\"collectionDetails\"]\n",
    "collection_status = collection_exists and response[\"collectionDetails\"][0].get(\"status\")\n",
    "\n",
    "if collection_status == \"ACTIVE\":\n",
    "    print(\"Collection already exists and is ACTIVE.\")\n",
    "elif collection_status == \"CREATING\":\n",
    "    print(\"Collection is being created... Waiting for it to become ACTIVE.\")\n",
    "    while collection_status == \"CREATING\":\n",
    "        time.sleep(30)  # Wait for 30 seconds\n",
    "        response = aoss_client.batch_get_collection(names=[vector_store_name])\n",
    "        collection_exists = (\n",
    "            \"collectionDetails\" in response and response[\"collectionDetails\"]\n",
    "        )\n",
    "        collection_status = collection_exists and response[\"collectionDetails\"][0].get(\n",
    "            \"status\", \"CREATING\"\n",
    "        )  # Default to CREATING to continue loop if undefined\n",
    "    print(\"Collection is now ACTIVE.\")\n",
    "elif not collection_exists:\n",
    "    print(\"Collection details not found. The collection does not exist.\")\n",
    "else:\n",
    "    print(f\"Collection status: {collection_status}\")"
   ]
  },
  {
   "cell_type": "code",
   "execution_count": null,
   "id": "e913471d-13b1-41b4-9e6e-4bddde1af6b8",
   "metadata": {},
   "outputs": [],
   "source": [
    "# create oss policy and attach it to Bedrock execution role\n",
    "create_oss_policy_attach_bedrock_execution_role(\n",
    "    collection_id=collection_id, bedrock_kb_execution_role=bedrock_kb_execution_role\n",
    ")"
   ]
  },
  {
   "cell_type": "markdown",
   "id": "f31db6c0-a3be-40d0-a980-fbff771723e2",
   "metadata": {},
   "source": [
    "## Step 2 - Create vector index"
   ]
  },
  {
   "cell_type": "code",
   "execution_count": null,
   "id": "bd347e3f-e137-444d-80b0-a2a4f1d20674",
   "metadata": {},
   "outputs": [],
   "source": [
    "from opensearchpy import OpenSearch, RequestsHttpConnection, AWSV4SignerAuth\n",
    "\n",
    "credentials = boto3.Session().get_credentials()\n",
    "awsauth = auth = AWSV4SignerAuth(credentials, region_name, service)\n",
    "\n",
    "index_name = f\"bedrock-sample-index-{suffix}\"\n",
    "body_json = {\n",
    "    \"settings\": {\n",
    "        \"index.knn\": \"true\",\n",
    "        \"number_of_shards\": 1,\n",
    "        \"knn.algo_param.ef_search\": 512,\n",
    "        \"number_of_replicas\": 0,\n",
    "    },\n",
    "    \"mappings\": {\n",
    "        \"properties\": {\n",
    "            \"vector\": {\n",
    "                \"type\": \"knn_vector\",\n",
    "                \"dimension\": 1536,\n",
    "                \"method\": {\n",
    "                    \"name\": \"hnsw\",\n",
    "                    \"engine\": \"faiss\",\n",
    "                    \"space_type\": \"innerproduct\",\n",
    "                    \"parameters\": {\"ef_construction\": 512, \"m\": 16},\n",
    "                },\n",
    "            },\n",
    "            \"text\": {\"type\": \"text\"},\n",
    "            \"text-metadata\": {\"type\": \"text\"},\n",
    "        }\n",
    "    },\n",
    "}\n",
    "# Build the OpenSearch client\n",
    "oss_client = OpenSearch(\n",
    "    hosts=[{\"host\": host, \"port\": 443}],\n",
    "    http_auth=awsauth,\n",
    "    use_ssl=True,\n",
    "    verify_certs=True,\n",
    "    connection_class=RequestsHttpConnection,\n",
    "    timeout=300,\n",
    ")\n",
    "# # It can take up to a minute for data access rules to be enforced\n",
    "time.sleep(60)\n"
   ]
  },
  {
   "cell_type": "code",
   "execution_count": null,
   "id": "e84b050e-795f-4588-b35a-c5582e59a74c",
   "metadata": {},
   "outputs": [],
   "source": [
    "# Create index\n",
    "response = oss_client.indices.create(index=index_name, body=json.dumps(body_json))\n",
    "print('\\nCreating index:')\n",
    "print(response)\n",
    "time.sleep(60) # index creation can take up to a minute"
   ]
  },
  {
   "cell_type": "markdown",
   "id": "067880f3-0199-43b2-b772-4f7da486effd",
   "metadata": {
    "editable": true,
    "slideshow": {
     "slide_type": ""
    },
    "tags": []
   },
   "source": [
    "### Upoad data to S3 Bucket"
   ]
  },
  {
   "cell_type": "code",
   "execution_count": null,
   "id": "44c37ffc-629f-41bd-9a0e-56e05d00a8e7",
   "metadata": {},
   "outputs": [],
   "source": [
    "folder_path = 'knowledge_data/'  # Specify the folder path (with trailing '/')\n",
    "s3_key = folder_path + 'hypertension.pdf'  # Combine folder path with file name\n",
    "\n",
    "# Upload a CSV file to the S3 bucket\n",
    "local_file_path = 'hypertension.pdf'\n",
    "\n",
    "try:\n",
    "    s3.upload_file(Filename=local_file_path, Bucket=bucket_name, Key=s3_key)\n",
    "    print(f\"File '{local_file_path}' uploaded to '{bucket_name}/{s3_key}'\")\n",
    "except Exception as e:\n",
    "    print(f\"Error uploading file to S3: {e}\")\n",
    "    raise"
   ]
  },
  {
   "cell_type": "markdown",
   "id": "4bbcf22d-4f2b-44f7-97ee-10b2d595a772",
   "metadata": {},
   "source": [
    "## Create Knowledge Base"
   ]
  },
  {
   "cell_type": "markdown",
   "id": "3b3810a2-f681-41ac-b441-0cc93a8ebb5f",
   "metadata": {},
   "source": [
    "Steps:\n",
    "\n",
    "- Initialize OpenSearch serverless configuration which will include collection ARN, index name, vector field, text field, and metadata field.\n",
    "- Initialize chunking strategy, based on which KB will split the documents into pieces of size equal to the chunk size mentioned in the chunkingStrategyConfiguration.\n",
    "- Initialize the S3 configuration, which will be used to create the data source object later.\n",
    "- Initialize the Titan embeddings model ARN, as this will be used to create the embeddings for each of the text chunks.\n"
   ]
  },
  {
   "cell_type": "code",
   "execution_count": null,
   "id": "9878c2cb-3d4b-4cce-8051-d738a1c528ce",
   "metadata": {},
   "outputs": [],
   "source": [
    "opensearchServerlessConfiguration = {\n",
    "    \"collectionArn\": collection[\"createCollectionDetail\"][\"arn\"],\n",
    "    \"vectorIndexName\": index_name,\n",
    "    \"fieldMapping\": {\n",
    "        \"vectorField\": \"vector\",\n",
    "        \"textField\": \"text\",\n",
    "        \"metadataField\": \"text-metadata\",\n",
    "    },\n",
    "}\n",
    "\n",
    "chunkingStrategyConfiguration = {\n",
    "    \"chunkingStrategy\": \"FIXED_SIZE\",\n",
    "    \"fixedSizeChunkingConfiguration\": {\"maxTokens\": 512, \"overlapPercentage\": 20},\n",
    "}\n",
    "\n",
    "s3Configuration = {\n",
    "    \"bucketArn\": f\"arn:aws:s3:::{bucket_name}\",\n",
    "    # \"inclusionPrefixes\":[\"*.*\"] # you can use this if you want to create a KB using data within s3 prefixes.\n",
    "}\n",
    "\n",
    "embeddingModelArn = (\n",
    "    f\"arn:aws:bedrock:{region_name}::foundation-model/amazon.titan-embed-text-v1\"\n",
    ")\n",
    "\n",
    "name = f\"bedrock-sample-knowledge-base-{suffix}\"\n",
    "description = \"Guideline for the pharmacological treatment of hypertension in adults\"\n",
    "roleArn = bedrock_kb_execution_role_arn\n"
   ]
  },
  {
   "cell_type": "code",
   "execution_count": null,
   "id": "49808fc3-c362-4f36-a7c6-8d038d5d8bcb",
   "metadata": {},
   "outputs": [],
   "source": [
    "# Create a KnowledgeBase\n",
    "from retrying import retry\n",
    "\n",
    "@retry(wait_random_min=1000, wait_random_max=2000,stop_max_attempt_number=7)\n",
    "def create_knowledge_base_func():\n",
    "    create_kb_response = bedrock_agent_client.create_knowledge_base(\n",
    "        name = name,\n",
    "        description = description,\n",
    "        roleArn = roleArn,\n",
    "        knowledgeBaseConfiguration = {\n",
    "            \"type\": \"VECTOR\",\n",
    "            \"vectorKnowledgeBaseConfiguration\": {\n",
    "                \"embeddingModelArn\": embeddingModelArn\n",
    "            }\n",
    "        },\n",
    "        storageConfiguration = {\n",
    "            \"type\": \"OPENSEARCH_SERVERLESS\",\n",
    "            \"opensearchServerlessConfiguration\":opensearchServerlessConfiguration\n",
    "        }\n",
    "    )\n",
    "    return create_kb_response[\"knowledgeBase\"]"
   ]
  },
  {
   "cell_type": "code",
   "execution_count": null,
   "id": "562e74a1-07fe-4379-8466-96533edf4714",
   "metadata": {},
   "outputs": [],
   "source": [
    "try:\n",
    "    kb = create_knowledge_base_func()\n",
    "except Exception as err:\n",
    "    print(f\"{err=}, {type(err)=}\")"
   ]
  },
  {
   "cell_type": "code",
   "execution_count": null,
   "id": "8f769ecf-9a8d-4505-a885-282cbe1fe250",
   "metadata": {},
   "outputs": [],
   "source": [
    "get_kb_response = bedrock_agent_client.get_knowledge_base(knowledgeBaseId = kb['knowledgeBaseId'])"
   ]
  },
  {
   "cell_type": "markdown",
   "id": "c08d7e0f-1f8f-4cdd-97ab-b3f4ef991dbc",
   "metadata": {},
   "source": [
    "Create a data source, which will be associated with the knowledge base created above and ingest documents."
   ]
  },
  {
   "cell_type": "code",
   "execution_count": null,
   "id": "c46ce30e-4c19-4526-8f37-fa54b33b2af7",
   "metadata": {},
   "outputs": [],
   "source": [
    "# Create a DataSource in KnowledgeBase\n",
    "create_ds_response = bedrock_agent_client.create_data_source(\n",
    "    name=name,\n",
    "    description=description,\n",
    "    knowledgeBaseId=kb[\"knowledgeBaseId\"],\n",
    "    dataSourceConfiguration={\"type\": \"S3\", \"s3Configuration\": s3Configuration},\n",
    "    vectorIngestionConfiguration={\n",
    "        \"chunkingConfiguration\": chunkingStrategyConfiguration\n",
    "    },\n",
    ")\n",
    "ds = create_ds_response[\"dataSource\"]\n"
   ]
  },
  {
   "cell_type": "code",
   "execution_count": null,
   "id": "63fd49c5-2a3b-4e6c-b553-3e2fea05fd6f",
   "metadata": {},
   "outputs": [],
   "source": [
    "# Get DataSource \n",
    "bedrock_agent_client.get_data_source(knowledgeBaseId = kb['knowledgeBaseId'], dataSourceId = ds[\"dataSourceId\"])"
   ]
  },
  {
   "cell_type": "markdown",
   "id": "b7d6c791-a6ab-49d2-a28d-4e5ece232687",
   "metadata": {},
   "source": [
    "### Start ingestion job"
   ]
  },
  {
   "cell_type": "markdown",
   "id": "b6aaab3d-3149-499b-96f7-a5a6109e79cf",
   "metadata": {},
   "source": [
    "Once the KB and data source is created, we can start the ingestion job. "
   ]
  },
  {
   "cell_type": "code",
   "execution_count": null,
   "id": "3bd5d6e2-fda8-4698-9d79-3ecd076cc121",
   "metadata": {},
   "outputs": [],
   "source": [
    "# Start an ingestion job\n",
    "start_job_response = bedrock_agent_client.start_ingestion_job(knowledgeBaseId = kb['knowledgeBaseId'], dataSourceId = ds[\"dataSourceId\"])"
   ]
  },
  {
   "cell_type": "code",
   "execution_count": null,
   "id": "4fca4510-ac7a-4c18-aef1-fac7a53d190a",
   "metadata": {},
   "outputs": [],
   "source": [
    "job = start_job_response[\"ingestionJob\"]"
   ]
  },
  {
   "cell_type": "code",
   "execution_count": null,
   "id": "0503cdeb-2e56-4a44-9daf-e427df9ece23",
   "metadata": {},
   "outputs": [],
   "source": [
    "# Get job\n",
    "while job[\"status\"] != \"COMPLETE\":\n",
    "    get_job_response = bedrock_agent_client.get_ingestion_job(\n",
    "        knowledgeBaseId=kb[\"knowledgeBaseId\"],\n",
    "        dataSourceId=ds[\"dataSourceId\"],\n",
    "        ingestionJobId=job[\"ingestionJobId\"],\n",
    "    )\n",
    "    job = get_job_response[\"ingestionJob\"]\n",
    "time.sleep(40)"
   ]
  },
  {
   "cell_type": "code",
   "execution_count": null,
   "id": "50009089-41fb-4fd4-ab05-b7f1d32bc605",
   "metadata": {},
   "outputs": [],
   "source": [
    "kb_id = kb[\"knowledgeBaseId\"] # After creation, you can just replace this value with your kb id to avoid running cells again"
   ]
  },
  {
   "cell_type": "code",
   "execution_count": null,
   "id": "9870e512-c5d8-46e9-8301-d7e99bccc0f7",
   "metadata": {},
   "outputs": [],
   "source": [
    "%store kb_id"
   ]
  },
  {
   "cell_type": "markdown",
   "id": "68b6bb8c-0ebe-4bad-b853-e9f03fa04169",
   "metadata": {},
   "source": [
    "# Create Patient Database\n",
    "## Step 1 - Create and Upload Files to S3"
   ]
  },
  {
   "cell_type": "markdown",
   "id": "0106509c-835b-4c2f-8102-8ed1dd9fb953",
   "metadata": {},
   "source": [
    "First take the dataset and create a new csv file with your (the doctor's) email on it "
   ]
  },
  {
   "cell_type": "code",
   "execution_count": null,
   "id": "8d9217a1-d9bb-46c7-84c3-febbf2811638",
   "metadata": {},
   "outputs": [],
   "source": [
    "import pandas as pd\n",
    "\n",
    "# Read CSV file into pandas DataFrame\n",
    "input_file = 'input.csv'\n",
    "df = pd.read_csv(input_file)\n",
    "\n",
    "# Add 'email' column with specified email address\n",
    "email_to_add = 'example@example.com'\n",
    "df['email'] = email_to_add\n",
    "\n",
    "# Write DataFrame to CSV file\n",
    "output_file = 'output.csv'\n",
    "df.to_csv(output_file, index=False)\n"
   ]
  },
  {
   "cell_type": "markdown",
   "id": "30d66b9b-d419-4a76-836c-bcb02bf8ae1e",
   "metadata": {},
   "source": [
    "Create a new S3 bucket for the patient data and upload it"
   ]
  },
  {
   "cell_type": "code",
   "execution_count": null,
   "id": "08514a56-f80b-47bd-860b-d1b252aa6979",
   "metadata": {},
   "outputs": [],
   "source": [
    "# Create an S3 client\n",
    "s3 = boto3.client('s3')\n",
    "\n",
    "# Create an S3 bucket\n",
    "patient_bucket_name = f'patient-data-{s3_suffix}'\n",
    "\n",
    "try:\n",
    "    s3.create_bucket(Bucket=patient_bucket_name)\n",
    "except botocore.exceptions.ClientError as e:\n",
    "    error_code = e.response['Error']['Code']\n",
    "    if error_code == 'BucketAlreadyOwnedByYou':\n",
    "        print(f\"Bucket {bucket_name} already exists.\")\n",
    "    else:\n",
    "        print(f\"Error creating bucket: {e}\")\n",
    "        raise"
   ]
  },
  {
   "cell_type": "code",
   "execution_count": null,
   "id": "be15839b-f96b-40f2-91f4-4570580d5d07",
   "metadata": {},
   "outputs": [],
   "source": [
    "# Upload a CSV file with ptient data to the S3 bucket\n",
    "local_file_path_2 = output_file\n",
    "s3_key_dataset = 'patient_data_w_email.csv\"\n",
    "\n",
    "try:\n",
    "    s3.upload_file(Filename=local_file_path_2, Bucket=patient_bucket_name, Key=s3_key_dataset)\n",
    "except ClientError as e:\n",
    "    print(f\"Error uploading file to S3: {e}\")\n",
    "    raise"
   ]
  },
  {
   "cell_type": "markdown",
   "id": "e5c8f81c-2d38-4ab9-b240-5cbb11c80f3a",
   "metadata": {},
   "source": [
    "## Step 2 - Create DynamoDB table"
   ]
  },
  {
   "cell_type": "markdown",
   "id": "7ce96582-8373-467e-beee-c6a938132c31",
   "metadata": {},
   "source": [
    "Create a new DynamoDB table by importing the csv from S3. You might have to wait a bit before the table is created and you can use it in the next steps"
   ]
  },
  {
   "cell_type": "code",
   "execution_count": null,
   "id": "d9cff40a-23d8-4fed-abf1-8e3f02c22af2",
   "metadata": {
    "editable": true,
    "slideshow": {
     "slide_type": ""
    },
    "tags": []
   },
   "outputs": [],
   "source": [
    "# Create a DynamoDB client\n",
    "dynamodb = boto3.client('dynamodb')\n",
    "\n",
    "table_name = \"PatientInfo\" # change to your table name  \n",
    "\n",
    "# Create the DynamoDB table using the import_table client\n",
    "response = dynamodb.import_table(\n",
    "    S3BucketSource={\n",
    "        'S3Bucket': patient_bucket_name,\n",
    "        'S3KeyPrefix': s3_key_dataset\n",
    "    },\n",
    "    InputFormat='CSV',\n",
    "    TableCreationParameters={\n",
    "        'TableName': table_name, \n",
    "        'AttributeDefinitions': [\n",
    "            {\n",
    "                'AttributeName': 'Patient ID',\n",
    "                'AttributeType': 'S'\n",
    "            },\n",
    "        ],\n",
    "        'KeySchema': [\n",
    "            {\n",
    "                'AttributeName': 'Patient ID',\n",
    "                'KeyType': 'HASH'\n",
    "            },\n",
    "        ],\n",
    "        'BillingMode': 'PAY_PER_REQUEST'\n",
    "    }\n",
    ")"
   ]
  },
  {
   "cell_type": "markdown",
   "id": "6cb4cda9-9631-4c4d-aefb-406d8dbed708",
   "metadata": {},
   "source": [
    "Waiting on the DynamoDB import and table creation to be complete, checking the status. This cell was added because the import from S3 doesn't create a table immediately, so it's not recognized as soon as you run the cell "
   ]
  },
  {
   "cell_type": "code",
   "execution_count": null,
   "id": "0b309a7a-7081-4774-8e5f-9d2d1b73d932",
   "metadata": {},
   "outputs": [],
   "source": [
    "print(f\"Initiating table import for '{table_name}'. Waiting for availability...\")\n",
    "max_attempts = 60\n",
    "last_status = None\n",
    "for attempt in range(max_attempts):\n",
    "    try:\n",
    "        table_desc = dynamodb.describe_table(TableName=table_name)\n",
    "        current_status = table_desc['Table']['TableStatus']\n",
    "        if current_status != last_status:\n",
    "            print(f\"Table '{table_name}' status: {current_status}.\")\n",
    "            last_status = current_status\n",
    "        if current_status == 'ACTIVE':\n",
    "            print(f\"Table '{table_name}' is now ACTIVE and ready for use.\")\n",
    "            break\n",
    "        else:\n",
    "            time.sleep(5)  # Wait for 5 seconds before checking again\n",
    "    except ClientError as e:\n",
    "        error_code = e.response['Error']['Code']\n",
    "        if error_code == 'ResourceNotFoundException':\n",
    "            if last_status is None:\n",
    "                print(\"Table not found. Waiting for it to become available...\")\n",
    "                last_status = 'NOT FOUND'\n",
    "            time.sleep(5)\n",
    "        else:\n",
    "            raise\n",
    "else:\n",
    "    print(f\"Table '{table_name}' did not become ACTIVE after {max_attempts * 5} seconds.\")\n"
   ]
  },
  {
   "cell_type": "markdown",
   "id": "24a9d660-d23f-4605-9983-a5497d765bb8",
   "metadata": {},
   "source": [
    "# Generate and Send Recommendations\n",
    "## Step 1 - Retrive info and promp the model"
   ]
  },
  {
   "cell_type": "markdown",
   "id": "24781739-4ca6-40d8-afb9-23a72ce61bc3",
   "metadata": {},
   "source": [
    "We are now moving to the point to choose our patient and retrieve the patient's information from the database "
   ]
  },
  {
   "cell_type": "code",
   "execution_count": null,
   "id": "08f20c6a-8bdb-4c8c-a29b-d2cc5ee4e074",
   "metadata": {
    "editable": true,
    "slideshow": {
     "slide_type": ""
    },
    "tags": []
   },
   "outputs": [],
   "source": [
    "# Choose the patient based on ID\n",
    "\n",
    "patient_id = '2' # Change this to any patient ID in the database "
   ]
  },
  {
   "cell_type": "code",
   "execution_count": null,
   "id": "36325c88-8e32-47c0-ba91-64387db0a6d8",
   "metadata": {},
   "outputs": [],
   "source": [
    "try:\n",
    "    # Retrieve item from DynamoDB\n",
    "    response = dynamodb.get_item(\n",
    "        TableName=table_name, Key={\"Patient ID\": {\"S\": patient_id}}\n",
    "    )\n",
    "\n",
    "    # Extract patient information if item exists\n",
    "    item = response.get(\"Item\")\n",
    "    if item:\n",
    "        patient_info = {key: value.get(\"S\") for key, value in item.items()}\n",
    "        print(\"Patient Information:\", patient_info)\n",
    "    else:\n",
    "        print(\"Patient not found\")\n",
    "        patient_info = None\n",
    "\n",
    "except Exception as e:\n",
    "    print(\"Error retrieving patient information:\", e)\n",
    "    patient_info = None\n"
   ]
  },
  {
   "cell_type": "markdown",
   "id": "f6770987-75b2-4976-ae7e-b867d10c17c5",
   "metadata": {},
   "source": [
    "### Get Documents from Knowledge Base"
   ]
  },
  {
   "cell_type": "markdown",
   "id": "db084dbb-ef31-4de2-9fbb-bda060120058",
   "metadata": {},
   "source": [
    "Create a AmazonKnowledgeBasesRetriever object from LangChain which will call the Retreive API provided by Knowledge Bases for Amazon Bedrock which converts user queries into embeddings, searches the knowledge base, and returns the relevant results."
   ]
  },
  {
   "cell_type": "code",
   "execution_count": null,
   "id": "258f9b1f-8350-4da0-b2fd-1abe5460f9d5",
   "metadata": {},
   "outputs": [],
   "source": [
    "# Simulate getting recommendation using BedrockChat\n",
    "# Create the LangChain components\n",
    "from langchain.prompts import PromptTemplate\n",
    "import pprint as pp\n",
    "\n",
    "bedrock_client = boto3.client(\"bedrock-runtime\")\n",
    "\n",
    "model_id = \"anthropic.claude-3-haiku-20240307-v1:0\"\n",
    "llm = BedrockChat(model_id=model_id, client=bedrock_client)\n",
    "\n",
    "question = (\n",
    "    f\"What recommendations would you give to the doctor based on the {patient_info}?\"\n",
    ")\n",
    "retriever = AmazonKnowledgeBasesRetriever(\n",
    "    knowledge_base_id=kb_id,\n",
    "    retrieval_config={\n",
    "        \"vectorSearchConfiguration\": {\n",
    "            \"numberOfResults\": 4,\n",
    "            \"overrideSearchType\": \"SEMANTIC\",  # optional\n",
    "        }\n",
    "    },\n",
    ")\n",
    "\n",
    "docs = retriever.get_relevant_documents(query=question)\n",
    "pp.pprint(docs)\n"
   ]
  },
  {
   "cell_type": "markdown",
   "id": "fc304f8c-a39b-4483-bd0d-799d3940c259",
   "metadata": {},
   "source": [
    "### Prompt the Model \n",
    "Here we are prompting the model giving it context, patient info, and guidelines"
   ]
  },
  {
   "cell_type": "code",
   "execution_count": null,
   "id": "6ce83932-a8d2-4553-8016-97d79ec62a78",
   "metadata": {},
   "outputs": [],
   "source": [
    "PROMPT_TEMPLATE = \"\"\"\n",
    "Human: You are a medical assistant tasked with writing email recommendations to a doctor who has assisted a patient. \n",
    "You should keep a formal and professional language. \n",
    "You should present yourself as Dr. Claude, the patient's AI medical assistant, and provide next steps for the patient.\n",
    "You should use medical technical terms but should not refer specific studies in your answer.\n",
    "Use the following pieces of information to provide a concise answer to the question enclosed in <question> tags. \n",
    "Correlate the patient's information with the medical info from the context to provide a medically accurate response. \n",
    "\n",
    "<context>\n",
    "{context}\n",
    "</context>\n",
    "\n",
    "<question>\n",
    "{question}\n",
    "</question>\n",
    "\n",
    "Never say \"based on the context or information provided\". It should come across that you already know this knowledge beforehand.\n",
    "Finish the email with the source of your recommendations.\n",
    "\n",
    "Assistant:\"\"\"\n",
    "\n",
    "claude_prompt = PromptTemplate(\n",
    "    template=PROMPT_TEMPLATE, input_variables=[\"context\", \"question\"]\n",
    ")\n"
   ]
  },
  {
   "cell_type": "markdown",
   "id": "45bd1743-b61f-4c54-a00e-3cc3e1b543eb",
   "metadata": {},
   "source": [
    "Integrating the retriever and the LLM defined above with RetrievalQA Chain."
   ]
  },
  {
   "cell_type": "code",
   "execution_count": null,
   "id": "89f621b1-c03d-45b7-878a-fb06c2357bd1",
   "metadata": {
    "editable": true,
    "slideshow": {
     "slide_type": ""
    },
    "tags": []
   },
   "outputs": [],
   "source": [
    "from langchain.chains import RetrievalQA\n",
    "\n",
    "qa = RetrievalQA.from_chain_type(\n",
    "    llm=llm,\n",
    "    chain_type=\"stuff\",\n",
    "    retriever=retriever,\n",
    "    return_source_documents=True,\n",
    "    chain_type_kwargs={\"prompt\": claude_prompt}\n",
    ")"
   ]
  },
  {
   "cell_type": "code",
   "execution_count": null,
   "id": "5bbfca63-080e-4ad7-b45a-f8214e532ea7",
   "metadata": {},
   "outputs": [],
   "source": [
    "answer = qa.invoke(question)\n",
    "\n",
    "recommendation = answer['result']\n",
    "\n",
    "print(recommendation)"
   ]
  },
  {
   "cell_type": "markdown",
   "id": "3c204555-d9e1-40f2-b32e-ac3b0630fd79",
   "metadata": {},
   "source": [
    "## Step 2 - Create SNS Topic and Send email"
   ]
  },
  {
   "cell_type": "markdown",
   "id": "2a9cf0c4-c4fc-49cf-995b-f249c4e6329b",
   "metadata": {},
   "source": [
    "Creating the SNS Topic "
   ]
  },
  {
   "cell_type": "code",
   "execution_count": null,
   "id": "0a43039d-004d-4744-ba45-725d9725221d",
   "metadata": {},
   "outputs": [],
   "source": [
    "# Create an SNS client\n",
    "sns = boto3.client('sns')\n",
    "\n",
    "# Create an SNS topic\n",
    "topic_name = \"DrClaude\"\n",
    "response = sns.create_topic(Name=topic_name)\n",
    "topic_arn = response['TopicArn']\n",
    "print(f\"Created SNS topic: {topic_name}\")"
   ]
  },
  {
   "cell_type": "markdown",
   "id": "7031f4e3-978d-4abc-a1e6-e9001f198df0",
   "metadata": {},
   "source": [
    "Subscribing to the topic"
   ]
  },
  {
   "cell_type": "code",
   "execution_count": null,
   "id": "1557815b-23df-4118-a7c1-378620164eaf",
   "metadata": {},
   "outputs": [],
   "source": [
    "# Subscribe an email to the SNS topic\n",
    "email_address = \"example@example.com\" # put your own email here \n",
    "\n",
    "subscription_response = sns.subscribe(\n",
    "    TopicArn=topic_arn,\n",
    "    Protocol='email',\n",
    "    Endpoint=email_address\n",
    "    Attributes={\n",
    "        \"FilterPolicy\": '{\"email\": [\"' + email_address + '\"]}' #When you have multiple doctor emails, the email is only sent to the patient's doctor\n",
    "    }\n",
    ")\n",
    "\n",
    "print(f\"Subscribed email {email_address} to topic {topic_name}\\n\")\n",
    "print(\"Check your inbox to confirm the subscription!\")"
   ]
  },
  {
   "cell_type": "markdown",
   "id": "9a04f7cc-2b38-48b6-8f1d-7d8b62b8b39b",
   "metadata": {},
   "source": [
    "Checking if doctor's email is subscribed to the topic and sending it upon confirmation"
   ]
  },
  {
   "cell_type": "code",
   "execution_count": null,
   "id": "2a4f78b4-046e-4932-8360-62d5108907ce",
   "metadata": {
    "editable": true,
    "slideshow": {
     "slide_type": ""
    },
    "tags": []
   },
   "outputs": [],
   "source": [
    "# Check if the patient's email is subscribed to the SNS topic\n",
    "response = sns.list_subscriptions_by_topic(TopicArn=topic_arn)\n",
    "\n",
    "# Extract the list of subscribed emails\n",
    "subscribed_emails = [\n",
    "    subscription[\"Endpoint\"] for subscription in response[\"Subscriptions\"]\n",
    "]\n",
    "\n",
    "doctor_email = patient_info[\"email\"]\n",
    "\n",
    "# If the patient's email is subscribed, send the email\n",
    "if doctor_email in subscribed_emails:\n",
    "    # Set the email subject and message\n",
    "    subject = \"Dr. Claude's Medical Recommendations\"\n",
    "    message = f\"{recommendation}\"\n",
    "\n",
    "    # Send the email using SNS\n",
    "    response = sns.publish(\n",
    "        TopicArn=topic_arn,\n",
    "        Subject=subject,\n",
    "        Message=message,\n",
    "        MessageAttributes={\n",
    "            \"email\": {\"DataType\": \"String\", \"StringValue\": doctor_email}\n",
    "        },\n",
    "    )\n",
    "    print(\"Email sent successfully.\")\n",
    "    print(\"Response:\", response)\n",
    "else:\n",
    "    print(f\"The patient's email ({doctor_email}) is not subscribed to the SNS topic.\")\n"
   ]
  },
  {
   "cell_type": "markdown",
   "id": "4468a702-9b2d-465f-969b-a15f1fa09583",
   "metadata": {},
   "source": [
    "# Clean up"
   ]
  },
  {
   "cell_type": "markdown",
   "id": "f3a9362a-f8e1-4194-bc30-26b797b0d83d",
   "metadata": {},
   "source": [
    "### Delete KnowledgeBase"
   ]
  },
  {
   "cell_type": "code",
   "execution_count": null,
   "id": "6ddf1012-b3d2-4be4-99e5-450ee1a67e3d",
   "metadata": {},
   "outputs": [],
   "source": [
    "bedrock_agent_client = boto3_session.client('bedrock-agent', region_name=region_name)"
   ]
  },
  {
   "cell_type": "code",
   "execution_count": null,
   "id": "32f58b24-c816-4f7d-99aa-c0758eacd7b5",
   "metadata": {},
   "outputs": [],
   "source": [
    "bedrock_agent_client.delete_data_source(dataSourceId = ds[\"dataSourceId\"], knowledgeBaseId=kb['knowledgeBaseId'])\n",
    "bedrock_agent_client.delete_knowledge_base(knowledgeBaseId=kb['knowledgeBaseId'])\n",
    "oss_client.indices.delete(index=index_name)\n",
    "aoss_client.delete_collection(id=collection_id)\n",
    "aoss_client.delete_access_policy(type=\"data\", name=access_policy['accessPolicyDetail']['name'])\n",
    "aoss_client.delete_security_policy(type=\"network\", name=network_policy['securityPolicyDetail']['name'])\n",
    "aoss_client.delete_security_policy(type=\"encryption\", name=encryption_policy['securityPolicyDetail']['name'])"
   ]
  },
  {
   "cell_type": "markdown",
   "id": "40fe95d6-9254-466d-8f01-cc71dbdbe3ca",
   "metadata": {},
   "source": [
    "### Delete role and policies"
   ]
  },
  {
   "cell_type": "code",
   "execution_count": null,
   "id": "78e58d3a-cc7f-465d-8828-858631625ce5",
   "metadata": {},
   "outputs": [],
   "source": [
    "from policy_creator import delete_iam_role_and_policies\n",
    "delete_iam_role_and_policies()"
   ]
  },
  {
   "cell_type": "markdown",
   "id": "39cbeea3-e3b1-4432-a2ec-175b81ee56ba",
   "metadata": {},
   "source": [
    "### Delete RAG data S3 objects"
   ]
  },
  {
   "cell_type": "code",
   "execution_count": null,
   "id": "fe205492-cd6f-4715-8cdf-7cb82aeee022",
   "metadata": {},
   "outputs": [],
   "source": [
    "s3 = boto3.resource('s3')\n",
    "bucket_1 = s3.Bucket(bucket_name)\n",
    "\n",
    "# Delete all objects in the bucket before deleting it\n",
    "bucket_1.objects.all().delete()\n",
    "\n",
    "# Delete the bucket\n",
    "bucket_1.delete()"
   ]
  },
  {
   "cell_type": "markdown",
   "id": "f81a45f5-9b98-4902-b94b-2129d954ba19",
   "metadata": {},
   "source": [
    "### Delete patient data S3 objects"
   ]
  },
  {
   "cell_type": "code",
   "execution_count": null,
   "id": "2eb778ad-efdf-43db-83bd-541594325196",
   "metadata": {},
   "outputs": [],
   "source": [
    "bucket_2 = s3.Bucket(patient_bucket_name)\n",
    "\n",
    "# Delete all objects in the bucket before deleting it\n",
    "bucket_2.objects.all().delete()\n",
    "\n",
    "# Delete the bucket\n",
    "bucket_2.delete()"
   ]
  },
  {
   "cell_type": "markdown",
   "id": "bcfc92d2-123f-44f0-900b-1dfbc1648302",
   "metadata": {},
   "source": [
    "### Delete DynamoDB Table"
   ]
  },
  {
   "cell_type": "code",
   "execution_count": null,
   "id": "f5e5fa8e-21b7-41a8-a8a2-ca9e18201ff4",
   "metadata": {},
   "outputs": [],
   "source": [
    "dynamodb.delete_table(TableName=table_name)"
   ]
  },
  {
   "cell_type": "markdown",
   "id": "9fcb1845-f3a1-41d9-a539-9a8f0a29e199",
   "metadata": {},
   "source": [
    "### Delete SNS Topic"
   ]
  },
  {
   "cell_type": "code",
   "execution_count": null,
   "id": "341152c8-7022-4195-a69d-bc6466d72502",
   "metadata": {},
   "outputs": [],
   "source": [
    "sns.delete_topic(TopicArn=topic_arn)"
   ]
  }
 ],
 "metadata": {
  "availableInstances": [
   {
    "_defaultOrder": 0,
    "_isFastLaunch": true,
    "category": "General purpose",
    "gpuNum": 0,
    "hideHardwareSpecs": false,
    "memoryGiB": 4,
    "name": "ml.t3.medium",
    "vcpuNum": 2
   },
   {
    "_defaultOrder": 1,
    "_isFastLaunch": false,
    "category": "General purpose",
    "gpuNum": 0,
    "hideHardwareSpecs": false,
    "memoryGiB": 8,
    "name": "ml.t3.large",
    "vcpuNum": 2
   },
   {
    "_defaultOrder": 2,
    "_isFastLaunch": false,
    "category": "General purpose",
    "gpuNum": 0,
    "hideHardwareSpecs": false,
    "memoryGiB": 16,
    "name": "ml.t3.xlarge",
    "vcpuNum": 4
   },
   {
    "_defaultOrder": 3,
    "_isFastLaunch": false,
    "category": "General purpose",
    "gpuNum": 0,
    "hideHardwareSpecs": false,
    "memoryGiB": 32,
    "name": "ml.t3.2xlarge",
    "vcpuNum": 8
   },
   {
    "_defaultOrder": 4,
    "_isFastLaunch": true,
    "category": "General purpose",
    "gpuNum": 0,
    "hideHardwareSpecs": false,
    "memoryGiB": 8,
    "name": "ml.m5.large",
    "vcpuNum": 2
   },
   {
    "_defaultOrder": 5,
    "_isFastLaunch": false,
    "category": "General purpose",
    "gpuNum": 0,
    "hideHardwareSpecs": false,
    "memoryGiB": 16,
    "name": "ml.m5.xlarge",
    "vcpuNum": 4
   },
   {
    "_defaultOrder": 6,
    "_isFastLaunch": false,
    "category": "General purpose",
    "gpuNum": 0,
    "hideHardwareSpecs": false,
    "memoryGiB": 32,
    "name": "ml.m5.2xlarge",
    "vcpuNum": 8
   },
   {
    "_defaultOrder": 7,
    "_isFastLaunch": false,
    "category": "General purpose",
    "gpuNum": 0,
    "hideHardwareSpecs": false,
    "memoryGiB": 64,
    "name": "ml.m5.4xlarge",
    "vcpuNum": 16
   },
   {
    "_defaultOrder": 8,
    "_isFastLaunch": false,
    "category": "General purpose",
    "gpuNum": 0,
    "hideHardwareSpecs": false,
    "memoryGiB": 128,
    "name": "ml.m5.8xlarge",
    "vcpuNum": 32
   },
   {
    "_defaultOrder": 9,
    "_isFastLaunch": false,
    "category": "General purpose",
    "gpuNum": 0,
    "hideHardwareSpecs": false,
    "memoryGiB": 192,
    "name": "ml.m5.12xlarge",
    "vcpuNum": 48
   },
   {
    "_defaultOrder": 10,
    "_isFastLaunch": false,
    "category": "General purpose",
    "gpuNum": 0,
    "hideHardwareSpecs": false,
    "memoryGiB": 256,
    "name": "ml.m5.16xlarge",
    "vcpuNum": 64
   },
   {
    "_defaultOrder": 11,
    "_isFastLaunch": false,
    "category": "General purpose",
    "gpuNum": 0,
    "hideHardwareSpecs": false,
    "memoryGiB": 384,
    "name": "ml.m5.24xlarge",
    "vcpuNum": 96
   },
   {
    "_defaultOrder": 12,
    "_isFastLaunch": false,
    "category": "General purpose",
    "gpuNum": 0,
    "hideHardwareSpecs": false,
    "memoryGiB": 8,
    "name": "ml.m5d.large",
    "vcpuNum": 2
   },
   {
    "_defaultOrder": 13,
    "_isFastLaunch": false,
    "category": "General purpose",
    "gpuNum": 0,
    "hideHardwareSpecs": false,
    "memoryGiB": 16,
    "name": "ml.m5d.xlarge",
    "vcpuNum": 4
   },
   {
    "_defaultOrder": 14,
    "_isFastLaunch": false,
    "category": "General purpose",
    "gpuNum": 0,
    "hideHardwareSpecs": false,
    "memoryGiB": 32,
    "name": "ml.m5d.2xlarge",
    "vcpuNum": 8
   },
   {
    "_defaultOrder": 15,
    "_isFastLaunch": false,
    "category": "General purpose",
    "gpuNum": 0,
    "hideHardwareSpecs": false,
    "memoryGiB": 64,
    "name": "ml.m5d.4xlarge",
    "vcpuNum": 16
   },
   {
    "_defaultOrder": 16,
    "_isFastLaunch": false,
    "category": "General purpose",
    "gpuNum": 0,
    "hideHardwareSpecs": false,
    "memoryGiB": 128,
    "name": "ml.m5d.8xlarge",
    "vcpuNum": 32
   },
   {
    "_defaultOrder": 17,
    "_isFastLaunch": false,
    "category": "General purpose",
    "gpuNum": 0,
    "hideHardwareSpecs": false,
    "memoryGiB": 192,
    "name": "ml.m5d.12xlarge",
    "vcpuNum": 48
   },
   {
    "_defaultOrder": 18,
    "_isFastLaunch": false,
    "category": "General purpose",
    "gpuNum": 0,
    "hideHardwareSpecs": false,
    "memoryGiB": 256,
    "name": "ml.m5d.16xlarge",
    "vcpuNum": 64
   },
   {
    "_defaultOrder": 19,
    "_isFastLaunch": false,
    "category": "General purpose",
    "gpuNum": 0,
    "hideHardwareSpecs": false,
    "memoryGiB": 384,
    "name": "ml.m5d.24xlarge",
    "vcpuNum": 96
   },
   {
    "_defaultOrder": 20,
    "_isFastLaunch": false,
    "category": "General purpose",
    "gpuNum": 0,
    "hideHardwareSpecs": true,
    "memoryGiB": 0,
    "name": "ml.geospatial.interactive",
    "supportedImageNames": [
     "sagemaker-geospatial-v1-0"
    ],
    "vcpuNum": 0
   },
   {
    "_defaultOrder": 21,
    "_isFastLaunch": true,
    "category": "Compute optimized",
    "gpuNum": 0,
    "hideHardwareSpecs": false,
    "memoryGiB": 4,
    "name": "ml.c5.large",
    "vcpuNum": 2
   },
   {
    "_defaultOrder": 22,
    "_isFastLaunch": false,
    "category": "Compute optimized",
    "gpuNum": 0,
    "hideHardwareSpecs": false,
    "memoryGiB": 8,
    "name": "ml.c5.xlarge",
    "vcpuNum": 4
   },
   {
    "_defaultOrder": 23,
    "_isFastLaunch": false,
    "category": "Compute optimized",
    "gpuNum": 0,
    "hideHardwareSpecs": false,
    "memoryGiB": 16,
    "name": "ml.c5.2xlarge",
    "vcpuNum": 8
   },
   {
    "_defaultOrder": 24,
    "_isFastLaunch": false,
    "category": "Compute optimized",
    "gpuNum": 0,
    "hideHardwareSpecs": false,
    "memoryGiB": 32,
    "name": "ml.c5.4xlarge",
    "vcpuNum": 16
   },
   {
    "_defaultOrder": 25,
    "_isFastLaunch": false,
    "category": "Compute optimized",
    "gpuNum": 0,
    "hideHardwareSpecs": false,
    "memoryGiB": 72,
    "name": "ml.c5.9xlarge",
    "vcpuNum": 36
   },
   {
    "_defaultOrder": 26,
    "_isFastLaunch": false,
    "category": "Compute optimized",
    "gpuNum": 0,
    "hideHardwareSpecs": false,
    "memoryGiB": 96,
    "name": "ml.c5.12xlarge",
    "vcpuNum": 48
   },
   {
    "_defaultOrder": 27,
    "_isFastLaunch": false,
    "category": "Compute optimized",
    "gpuNum": 0,
    "hideHardwareSpecs": false,
    "memoryGiB": 144,
    "name": "ml.c5.18xlarge",
    "vcpuNum": 72
   },
   {
    "_defaultOrder": 28,
    "_isFastLaunch": false,
    "category": "Compute optimized",
    "gpuNum": 0,
    "hideHardwareSpecs": false,
    "memoryGiB": 192,
    "name": "ml.c5.24xlarge",
    "vcpuNum": 96
   },
   {
    "_defaultOrder": 29,
    "_isFastLaunch": true,
    "category": "Accelerated computing",
    "gpuNum": 1,
    "hideHardwareSpecs": false,
    "memoryGiB": 16,
    "name": "ml.g4dn.xlarge",
    "vcpuNum": 4
   },
   {
    "_defaultOrder": 30,
    "_isFastLaunch": false,
    "category": "Accelerated computing",
    "gpuNum": 1,
    "hideHardwareSpecs": false,
    "memoryGiB": 32,
    "name": "ml.g4dn.2xlarge",
    "vcpuNum": 8
   },
   {
    "_defaultOrder": 31,
    "_isFastLaunch": false,
    "category": "Accelerated computing",
    "gpuNum": 1,
    "hideHardwareSpecs": false,
    "memoryGiB": 64,
    "name": "ml.g4dn.4xlarge",
    "vcpuNum": 16
   },
   {
    "_defaultOrder": 32,
    "_isFastLaunch": false,
    "category": "Accelerated computing",
    "gpuNum": 1,
    "hideHardwareSpecs": false,
    "memoryGiB": 128,
    "name": "ml.g4dn.8xlarge",
    "vcpuNum": 32
   },
   {
    "_defaultOrder": 33,
    "_isFastLaunch": false,
    "category": "Accelerated computing",
    "gpuNum": 4,
    "hideHardwareSpecs": false,
    "memoryGiB": 192,
    "name": "ml.g4dn.12xlarge",
    "vcpuNum": 48
   },
   {
    "_defaultOrder": 34,
    "_isFastLaunch": false,
    "category": "Accelerated computing",
    "gpuNum": 1,
    "hideHardwareSpecs": false,
    "memoryGiB": 256,
    "name": "ml.g4dn.16xlarge",
    "vcpuNum": 64
   },
   {
    "_defaultOrder": 35,
    "_isFastLaunch": false,
    "category": "Accelerated computing",
    "gpuNum": 1,
    "hideHardwareSpecs": false,
    "memoryGiB": 61,
    "name": "ml.p3.2xlarge",
    "vcpuNum": 8
   },
   {
    "_defaultOrder": 36,
    "_isFastLaunch": false,
    "category": "Accelerated computing",
    "gpuNum": 4,
    "hideHardwareSpecs": false,
    "memoryGiB": 244,
    "name": "ml.p3.8xlarge",
    "vcpuNum": 32
   },
   {
    "_defaultOrder": 37,
    "_isFastLaunch": false,
    "category": "Accelerated computing",
    "gpuNum": 8,
    "hideHardwareSpecs": false,
    "memoryGiB": 488,
    "name": "ml.p3.16xlarge",
    "vcpuNum": 64
   },
   {
    "_defaultOrder": 38,
    "_isFastLaunch": false,
    "category": "Accelerated computing",
    "gpuNum": 8,
    "hideHardwareSpecs": false,
    "memoryGiB": 768,
    "name": "ml.p3dn.24xlarge",
    "vcpuNum": 96
   },
   {
    "_defaultOrder": 39,
    "_isFastLaunch": false,
    "category": "Memory Optimized",
    "gpuNum": 0,
    "hideHardwareSpecs": false,
    "memoryGiB": 16,
    "name": "ml.r5.large",
    "vcpuNum": 2
   },
   {
    "_defaultOrder": 40,
    "_isFastLaunch": false,
    "category": "Memory Optimized",
    "gpuNum": 0,
    "hideHardwareSpecs": false,
    "memoryGiB": 32,
    "name": "ml.r5.xlarge",
    "vcpuNum": 4
   },
   {
    "_defaultOrder": 41,
    "_isFastLaunch": false,
    "category": "Memory Optimized",
    "gpuNum": 0,
    "hideHardwareSpecs": false,
    "memoryGiB": 64,
    "name": "ml.r5.2xlarge",
    "vcpuNum": 8
   },
   {
    "_defaultOrder": 42,
    "_isFastLaunch": false,
    "category": "Memory Optimized",
    "gpuNum": 0,
    "hideHardwareSpecs": false,
    "memoryGiB": 128,
    "name": "ml.r5.4xlarge",
    "vcpuNum": 16
   },
   {
    "_defaultOrder": 43,
    "_isFastLaunch": false,
    "category": "Memory Optimized",
    "gpuNum": 0,
    "hideHardwareSpecs": false,
    "memoryGiB": 256,
    "name": "ml.r5.8xlarge",
    "vcpuNum": 32
   },
   {
    "_defaultOrder": 44,
    "_isFastLaunch": false,
    "category": "Memory Optimized",
    "gpuNum": 0,
    "hideHardwareSpecs": false,
    "memoryGiB": 384,
    "name": "ml.r5.12xlarge",
    "vcpuNum": 48
   },
   {
    "_defaultOrder": 45,
    "_isFastLaunch": false,
    "category": "Memory Optimized",
    "gpuNum": 0,
    "hideHardwareSpecs": false,
    "memoryGiB": 512,
    "name": "ml.r5.16xlarge",
    "vcpuNum": 64
   },
   {
    "_defaultOrder": 46,
    "_isFastLaunch": false,
    "category": "Memory Optimized",
    "gpuNum": 0,
    "hideHardwareSpecs": false,
    "memoryGiB": 768,
    "name": "ml.r5.24xlarge",
    "vcpuNum": 96
   },
   {
    "_defaultOrder": 47,
    "_isFastLaunch": false,
    "category": "Accelerated computing",
    "gpuNum": 1,
    "hideHardwareSpecs": false,
    "memoryGiB": 16,
    "name": "ml.g5.xlarge",
    "vcpuNum": 4
   },
   {
    "_defaultOrder": 48,
    "_isFastLaunch": false,
    "category": "Accelerated computing",
    "gpuNum": 1,
    "hideHardwareSpecs": false,
    "memoryGiB": 32,
    "name": "ml.g5.2xlarge",
    "vcpuNum": 8
   },
   {
    "_defaultOrder": 49,
    "_isFastLaunch": false,
    "category": "Accelerated computing",
    "gpuNum": 1,
    "hideHardwareSpecs": false,
    "memoryGiB": 64,
    "name": "ml.g5.4xlarge",
    "vcpuNum": 16
   },
   {
    "_defaultOrder": 50,
    "_isFastLaunch": false,
    "category": "Accelerated computing",
    "gpuNum": 1,
    "hideHardwareSpecs": false,
    "memoryGiB": 128,
    "name": "ml.g5.8xlarge",
    "vcpuNum": 32
   },
   {
    "_defaultOrder": 51,
    "_isFastLaunch": false,
    "category": "Accelerated computing",
    "gpuNum": 1,
    "hideHardwareSpecs": false,
    "memoryGiB": 256,
    "name": "ml.g5.16xlarge",
    "vcpuNum": 64
   },
   {
    "_defaultOrder": 52,
    "_isFastLaunch": false,
    "category": "Accelerated computing",
    "gpuNum": 4,
    "hideHardwareSpecs": false,
    "memoryGiB": 192,
    "name": "ml.g5.12xlarge",
    "vcpuNum": 48
   },
   {
    "_defaultOrder": 53,
    "_isFastLaunch": false,
    "category": "Accelerated computing",
    "gpuNum": 4,
    "hideHardwareSpecs": false,
    "memoryGiB": 384,
    "name": "ml.g5.24xlarge",
    "vcpuNum": 96
   },
   {
    "_defaultOrder": 54,
    "_isFastLaunch": false,
    "category": "Accelerated computing",
    "gpuNum": 8,
    "hideHardwareSpecs": false,
    "memoryGiB": 768,
    "name": "ml.g5.48xlarge",
    "vcpuNum": 192
   },
   {
    "_defaultOrder": 55,
    "_isFastLaunch": false,
    "category": "Accelerated computing",
    "gpuNum": 8,
    "hideHardwareSpecs": false,
    "memoryGiB": 1152,
    "name": "ml.p4d.24xlarge",
    "vcpuNum": 96
   },
   {
    "_defaultOrder": 56,
    "_isFastLaunch": false,
    "category": "Accelerated computing",
    "gpuNum": 8,
    "hideHardwareSpecs": false,
    "memoryGiB": 1152,
    "name": "ml.p4de.24xlarge",
    "vcpuNum": 96
   },
   {
    "_defaultOrder": 57,
    "_isFastLaunch": false,
    "category": "Accelerated computing",
    "gpuNum": 0,
    "hideHardwareSpecs": false,
    "memoryGiB": 32,
    "name": "ml.trn1.2xlarge",
    "vcpuNum": 8
   },
   {
    "_defaultOrder": 58,
    "_isFastLaunch": false,
    "category": "Accelerated computing",
    "gpuNum": 0,
    "hideHardwareSpecs": false,
    "memoryGiB": 512,
    "name": "ml.trn1.32xlarge",
    "vcpuNum": 128
   },
   {
    "_defaultOrder": 59,
    "_isFastLaunch": false,
    "category": "Accelerated computing",
    "gpuNum": 0,
    "hideHardwareSpecs": false,
    "memoryGiB": 512,
    "name": "ml.trn1n.32xlarge",
    "vcpuNum": 128
   }
  ],
  "instance_type": "ml.t3.medium",
  "kernelspec": {
   "display_name": "Python 3 (ipykernel)",
   "language": "python",
   "name": "python3"
  },
  "language_info": {
   "codemirror_mode": {
    "name": "ipython",
    "version": 3
   },
   "file_extension": ".py",
   "mimetype": "text/x-python",
   "name": "python",
   "nbconvert_exporter": "python",
   "pygments_lexer": "ipython3",
   "version": "3.10.13"
  }
 },
 "nbformat": 4,
 "nbformat_minor": 5
}
