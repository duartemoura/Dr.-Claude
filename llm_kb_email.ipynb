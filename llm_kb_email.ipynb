{
 "cells": [
  {
   "cell_type": "markdown",
   "id": "be436297-d897-40d2-ab78-cdbf146ce542",
   "metadata": {},
   "source": [
    "# Dr. Claude- Patient Care with AWS: Personalized Medical Recommendations using DynamoDB, Bedrock, and SNS"
   ]
  },
  {
   "cell_type": "code",
   "execution_count": null,
   "id": "9120c2dc-2793-48f2-abe7-0c3bb2805e0d",
   "metadata": {},
   "outputs": [],
   "source": [
    "%pip install --upgrade pip --quiet\n",
    "%pip install boto3 --force-reinstall --quiet\n",
    "%pip install botocore --force-reinstall --quiet\n",
    "%pip install langchain --force-reinstall --quiet"
   ]
  },
  {
   "cell_type": "code",
   "execution_count": null,
   "id": "5a0815a0-58de-4ef6-b265-172592990ccc",
   "metadata": {},
   "outputs": [],
   "source": [
    "%pip install -U opensearch-py==2.3.1"
   ]
  },
  {
   "cell_type": "code",
   "execution_count": 46,
   "id": "82714b89-e788-4a1f-82da-20b9317fa71b",
   "metadata": {},
   "outputs": [],
   "source": [
    "import boto3\n",
    "import botocore\n",
    "from botocore.exceptions import ClientError\n",
    "import json\n",
    "import csv\n",
    "from io import StringIO\n",
    "from langchain_community.chat_models import BedrockChat\n",
    "from langchain_core.prompts import ChatPromptTemplate\n",
    "from langchain.retrievers.bedrock import AmazonKnowledgeBasesRetriever\n",
    "import random\n",
    "import pprint\n",
    "import time\n",
    "from utility import create_bedrock_execution_role, create_oss_policy_attach_bedrock_execution_role, create_policies_in_oss\n",
    "suffix = random.randrange(200, 900)\n",
    "\n",
    "boto3_session = boto3.session.Session()\n",
    "region_name = boto3_session.region_name\n",
    "sts_client = boto3.client('sts')\n",
    "bedrock_agent_client = boto3_session.client('bedrock-agent', region_name=region_name)\n",
    "service = 'aoss'\n",
    "account_id = sts_client.get_caller_identity()[\"Account\"]\n",
    "s3_suffix = f\"{region_name}-{account_id}\""
   ]
  },
  {
   "cell_type": "code",
   "execution_count": 3,
   "id": "889a011c-1e77-4e4a-bd62-fcefc7372846",
   "metadata": {},
   "outputs": [],
   "source": [
    "# Create an S3 client\n",
    "s3 = boto3.client('s3')\n",
    "\n",
    "# Create an S3 bucket\n",
    "bucket_name = f'your-s3-bucket{s3_suffix}'\n",
    "try:\n",
    "    s3.create_bucket(Bucket=bucket_name)\n",
    "except botocore.exceptions.ClientError as e:\n",
    "    error_code = e.response['Error']['Code']\n",
    "    if error_code == 'BucketAlreadyOwnedByYou':\n",
    "        print(f\"Bucket {bucket_name} already exists.\")\n",
    "    else:\n",
    "        print(f\"Error creating bucket: {e}\")\n",
    "        raise"
   ]
  },
  {
   "cell_type": "code",
   "execution_count": 4,
   "id": "afdb432a-fd76-4ce3-837a-93f00ce02ab2",
   "metadata": {},
   "outputs": [],
   "source": [
    "vector_store_name = f'bedrock-sample-rag-{suffix}'\n",
    "index_name = f\"bedrock-sample-rag-index-{suffix}\"\n",
    "aoss_client = boto3_session.client('opensearchserverless')\n",
    "bedrock_kb_execution_role = create_bedrock_execution_role(bucket_name=bucket_name)\n",
    "bedrock_kb_execution_role_arn = bedrock_kb_execution_role['Role']['Arn']"
   ]
  },
  {
   "cell_type": "code",
   "execution_count": 5,
   "id": "347888d4-b856-46ec-a09f-ade72db9023e",
   "metadata": {},
   "outputs": [],
   "source": [
    "# create security, network and data access policies within OSS\n",
    "encryption_policy, network_policy, access_policy = create_policies_in_oss(vector_store_name=vector_store_name,\n",
    "                       aoss_client=aoss_client,\n",
    "                       bedrock_kb_execution_role_arn=bedrock_kb_execution_role_arn)\n",
    "collection = aoss_client.create_collection(name=vector_store_name,type='VECTORSEARCH')"
   ]
  },
  {
   "cell_type": "code",
   "execution_count": 6,
   "id": "18a50167-d020-46b2-a9ba-a6f9d10722e9",
   "metadata": {},
   "outputs": [],
   "source": [
    "collection_id = collection['createCollectionDetail']['id']\n",
    "host = collection_id + '.' + region_name + '.aoss.amazonaws.com'"
   ]
  },
  {
   "cell_type": "code",
   "execution_count": 10,
   "id": "0a04bd53-e823-4d7f-9d60-2ac4a3b77c96",
   "metadata": {},
   "outputs": [
    {
     "name": "stdout",
     "output_type": "stream",
     "text": [
      "Collection already exists and is ACTIVE.\n"
     ]
    }
   ],
   "source": [
    "# Check if the collection exists\n",
    "if 'collectionDetails' in response:\n",
    "    collection_details = response['collectionDetails']\n",
    "    if collection_details:\n",
    "        collection_status = collection_details[0].get('status', None)\n",
    "        if collection_status:\n",
    "            # Check if the collection status is 'ACTIVE'\n",
    "            if collection_status == 'ACTIVE':\n",
    "                print('Collection already exists and is ACTIVE.')\n",
    "            elif collection_status == 'CREATING':\n",
    "                # Collection is still being created, wait for it to become ACTIVE\n",
    "                print('Collection is still being created...')\n",
    "                while collection_status == 'CREATING':\n",
    "                    time.sleep(30)  # Wait for 30 seconds\n",
    "                    response = aoss_client.batch_get_collection(names=[vector_store_name])\n",
    "                    collection_details = response.get('collectionDetails', [])\n",
    "                    if collection_details:\n",
    "                        collection_status = collection_details[0].get('status', None)\n",
    "                print('Collection creation completed.')\n",
    "            else:\n",
    "                print(f'Collection status: {collection_status}')\n",
    "        else:\n",
    "            print('Collection status not found in response.')\n",
    "    else:\n",
    "        print('Collection details not found in response.')\n",
    "else:\n",
    "    print('No collection details found in response.')"
   ]
  },
  {
   "cell_type": "code",
   "execution_count": 8,
   "id": "e913471d-13b1-41b4-9e6e-4bddde1af6b8",
   "metadata": {},
   "outputs": [
    {
     "name": "stdout",
     "output_type": "stream",
     "text": [
      "Opensearch serverless arn:  arn:aws:iam::336445861055:policy/AmazonBedrockOSSPolicyForKnowledgeBase_772\n"
     ]
    }
   ],
   "source": [
    "# create oss policy and attach it to Bedrock execution role\n",
    "create_oss_policy_attach_bedrock_execution_role(collection_id=collection_id,\n",
    "                                                bedrock_kb_execution_role=bedrock_kb_execution_role)"
   ]
  },
  {
   "cell_type": "code",
   "execution_count": 11,
   "id": "bd347e3f-e137-444d-80b0-a2a4f1d20674",
   "metadata": {},
   "outputs": [],
   "source": [
    "from opensearchpy import OpenSearch, RequestsHttpConnection, AWSV4SignerAuth\n",
    "credentials = boto3.Session().get_credentials()\n",
    "awsauth = auth = AWSV4SignerAuth(credentials, region_name, service)\n",
    "\n",
    "index_name = f\"bedrock-sample-index-{suffix}\"\n",
    "body_json = {\n",
    "   \"settings\": {\n",
    "      \"index.knn\": \"true\",\n",
    "       \"number_of_shards\": 1,\n",
    "       \"knn.algo_param.ef_search\": 512,\n",
    "       \"number_of_replicas\": 0,\n",
    "   },\n",
    "   \"mappings\": {\n",
    "      \"properties\": {\n",
    "         \"vector\": {\n",
    "            \"type\": \"knn_vector\",\n",
    "            \"dimension\": 1536,\n",
    "             \"method\": {\n",
    "                 \"name\": \"hnsw\",\n",
    "                 \"engine\": \"nmslib\",\n",
    "                 \"space_type\": \"cosinesimil\",\n",
    "                 \"parameters\": {\n",
    "                     \"ef_construction\": 512,\n",
    "                     \"m\": 16\n",
    "                 },\n",
    "             },\n",
    "         },\n",
    "         \"text\": {\n",
    "            \"type\": \"text\"\n",
    "         },\n",
    "         \"text-metadata\": {\n",
    "            \"type\": \"text\"         }\n",
    "      }\n",
    "   }\n",
    "}\n",
    "# Build the OpenSearch client\n",
    "oss_client = OpenSearch(\n",
    "    hosts=[{'host': host, 'port': 443}],\n",
    "    http_auth=awsauth,\n",
    "    use_ssl=True,\n",
    "    verify_certs=True,\n",
    "    connection_class=RequestsHttpConnection,\n",
    "    timeout=300\n",
    ")\n",
    "# # It can take up to a minute for data access rules to be enforced\n",
    "time.sleep(60)"
   ]
  },
  {
   "cell_type": "code",
   "execution_count": 12,
   "id": "e84b050e-795f-4588-b35a-c5582e59a74c",
   "metadata": {},
   "outputs": [
    {
     "name": "stdout",
     "output_type": "stream",
     "text": [
      "\n",
      "Creating index:\n",
      "{'acknowledged': True, 'shards_acknowledged': True, 'index': 'bedrock-sample-index-213'}\n"
     ]
    }
   ],
   "source": [
    "# Create index\n",
    "response = oss_client.indices.create(index=index_name, body=json.dumps(body_json))\n",
    "print('\\nCreating index:')\n",
    "print(response)\n",
    "time.sleep(60) # index creation can take up to a minute"
   ]
  },
  {
   "cell_type": "code",
   "execution_count": 13,
   "id": "44c37ffc-629f-41bd-9a0e-56e05d00a8e7",
   "metadata": {},
   "outputs": [
    {
     "name": "stdout",
     "output_type": "stream",
     "text": [
      "File 'hypertension.pdf' uploaded to 'your-s3-bucketus-east-1-336445861055/knowledge_data/hypertension.pdf'\n"
     ]
    }
   ],
   "source": [
    "folder_path = 'knowledge_data/'  # Specify the folder path (with trailing '/')\n",
    "s3_key = folder_path + 'hypertension.pdf'  # Combine folder path with file name\n",
    "\n",
    "# Upload a CSV file to the S3 bucket\n",
    "local_file_path = 'hypertension.pdf'\n",
    "\n",
    "try:\n",
    "    s3.upload_file(Filename=local_file_path, Bucket=bucket_name, Key=s3_key)\n",
    "    print(f\"File '{local_file_path}' uploaded to '{bucket_name}/{s3_key}'\")\n",
    "except Exception as e:\n",
    "    print(f\"Error uploading file to S3: {e}\")\n",
    "    raise"
   ]
  },
  {
   "cell_type": "code",
   "execution_count": 24,
   "id": "9878c2cb-3d4b-4cce-8051-d738a1c528ce",
   "metadata": {},
   "outputs": [],
   "source": [
    "opensearchServerlessConfiguration = {\n",
    "            \"collectionArn\": collection[\"createCollectionDetail\"]['arn'],\n",
    "            \"vectorIndexName\": index_name,\n",
    "            \"fieldMapping\": {\n",
    "                \"vectorField\": \"vector\",\n",
    "                \"textField\": \"text\",\n",
    "                \"metadataField\": \"text-metadata\"\n",
    "            }\n",
    "        }\n",
    "\n",
    "chunkingStrategyConfiguration = {\n",
    "    \"chunkingStrategy\": \"FIXED_SIZE\",\n",
    "    \"fixedSizeChunkingConfiguration\": {\n",
    "        \"maxTokens\": 512,\n",
    "        \"overlapPercentage\": 20\n",
    "    }\n",
    "}\n",
    "\n",
    "s3Configuration = {\n",
    "    \"bucketArn\": f\"arn:aws:s3:::{bucket_name}\",\n",
    "    # \"inclusionPrefixes\":[\"*.*\"] # you can use this if you want to create a KB using data within s3 prefixes.\n",
    "}\n",
    "\n",
    "embeddingModelArn = f\"arn:aws:bedrock:{region_name}::foundation-model/amazon.titan-embed-text-v1\"\n",
    "\n",
    "name = f\"bedrock-sample-knowledge-base-{suffix}\"\n",
    "description = \"Guideline for the pharmacological treatment of hypertension in adults\"\n",
    "roleArn = bedrock_kb_execution_role_arn"
   ]
  },
  {
   "cell_type": "code",
   "execution_count": 25,
   "id": "49808fc3-c362-4f36-a7c6-8d038d5d8bcb",
   "metadata": {},
   "outputs": [],
   "source": [
    "# Create a KnowledgeBase\n",
    "from retrying import retry\n",
    "\n",
    "@retry(wait_random_min=1000, wait_random_max=2000,stop_max_attempt_number=7)\n",
    "def create_knowledge_base_func():\n",
    "    create_kb_response = bedrock_agent_client.create_knowledge_base(\n",
    "        name = name,\n",
    "        description = description,\n",
    "        roleArn = roleArn,\n",
    "        knowledgeBaseConfiguration = {\n",
    "            \"type\": \"VECTOR\",\n",
    "            \"vectorKnowledgeBaseConfiguration\": {\n",
    "                \"embeddingModelArn\": embeddingModelArn\n",
    "            }\n",
    "        },\n",
    "        storageConfiguration = {\n",
    "            \"type\": \"OPENSEARCH_SERVERLESS\",\n",
    "            \"opensearchServerlessConfiguration\":opensearchServerlessConfiguration\n",
    "        }\n",
    "    )\n",
    "    return create_kb_response[\"knowledgeBase\"]"
   ]
  },
  {
   "cell_type": "code",
   "execution_count": 26,
   "id": "562e74a1-07fe-4379-8466-96533edf4714",
   "metadata": {},
   "outputs": [
    {
     "name": "stdout",
     "output_type": "stream",
     "text": [
      "err=ConflictException('An error occurred (ConflictException) when calling the CreateKnowledgeBase operation: KnowledgeBase with name bedrock-sample-knowledge-base-213 already exists.'), type(err)=<class 'botocore.errorfactory.ConflictException'>\n"
     ]
    }
   ],
   "source": [
    "try:\n",
    "    kb = create_knowledge_base_func()\n",
    "except Exception as err:\n",
    "    print(f\"{err=}, {type(err)=}\")"
   ]
  },
  {
   "cell_type": "code",
   "execution_count": 27,
   "id": "8f769ecf-9a8d-4505-a885-282cbe1fe250",
   "metadata": {},
   "outputs": [],
   "source": [
    "get_kb_response = bedrock_agent_client.get_knowledge_base(knowledgeBaseId = kb['knowledgeBaseId'])"
   ]
  },
  {
   "cell_type": "code",
   "execution_count": 28,
   "id": "c46ce30e-4c19-4526-8f37-fa54b33b2af7",
   "metadata": {},
   "outputs": [],
   "source": [
    "# Create a DataSource in KnowledgeBase \n",
    "create_ds_response = bedrock_agent_client.create_data_source(\n",
    "    name = name,\n",
    "    description = description,\n",
    "    knowledgeBaseId = kb['knowledgeBaseId'],\n",
    "    dataSourceConfiguration = {\n",
    "        \"type\": \"S3\",\n",
    "        \"s3Configuration\":s3Configuration\n",
    "    },\n",
    "    vectorIngestionConfiguration = {\n",
    "        \"chunkingConfiguration\": chunkingStrategyConfiguration\n",
    "    }\n",
    ")\n",
    "ds = create_ds_response[\"dataSource\"]"
   ]
  },
  {
   "cell_type": "code",
   "execution_count": 29,
   "id": "63fd49c5-2a3b-4e6c-b553-3e2fea05fd6f",
   "metadata": {},
   "outputs": [
    {
     "data": {
      "text/plain": [
       "{'ResponseMetadata': {'RequestId': 'a36ffb87-0b9b-4c6e-9310-e28a0d9330a0',\n",
       "  'HTTPStatusCode': 200,\n",
       "  'HTTPHeaders': {'date': 'Wed, 27 Mar 2024 15:00:34 GMT',\n",
       "   'content-type': 'application/json',\n",
       "   'content-length': '604',\n",
       "   'connection': 'keep-alive',\n",
       "   'x-amzn-requestid': 'a36ffb87-0b9b-4c6e-9310-e28a0d9330a0',\n",
       "   'x-amz-apigw-id': 'VS0m8GtloAMECKQ=',\n",
       "   'x-amzn-trace-id': 'Root=1-66043492-79fad79f01496d22640e6a20'},\n",
       "  'RetryAttempts': 0},\n",
       " 'dataSource': {'knowledgeBaseId': 'LWYAWODIVN',\n",
       "  'dataSourceId': 'WCLZSMQP9L',\n",
       "  'name': 'bedrock-sample-knowledge-base-213',\n",
       "  'status': 'AVAILABLE',\n",
       "  'description': 'Guideline for the pharmacological treatment of hypertension in adults',\n",
       "  'dataSourceConfiguration': {'type': 'S3',\n",
       "   's3Configuration': {'bucketArn': 'arn:aws:s3:::your-s3-bucketus-east-1-336445861055'}},\n",
       "  'vectorIngestionConfiguration': {'chunkingConfiguration': {'chunkingStrategy': 'FIXED_SIZE',\n",
       "    'fixedSizeChunkingConfiguration': {'maxTokens': 512,\n",
       "     'overlapPercentage': 20}}},\n",
       "  'createdAt': datetime.datetime(2024, 3, 27, 15, 0, 30, 359724, tzinfo=tzlocal()),\n",
       "  'updatedAt': datetime.datetime(2024, 3, 27, 15, 0, 30, 359724, tzinfo=tzlocal())}}"
      ]
     },
     "execution_count": 29,
     "metadata": {},
     "output_type": "execute_result"
    }
   ],
   "source": [
    "bedrock_agent_client.get_data_source(knowledgeBaseId = kb['knowledgeBaseId'], dataSourceId = ds[\"dataSourceId\"])"
   ]
  },
  {
   "cell_type": "code",
   "execution_count": 33,
   "id": "3bd5d6e2-fda8-4698-9d79-3ecd076cc121",
   "metadata": {},
   "outputs": [],
   "source": [
    "start_job_response = bedrock_agent_client.start_ingestion_job(knowledgeBaseId = kb['knowledgeBaseId'], dataSourceId = ds[\"dataSourceId\"])"
   ]
  },
  {
   "cell_type": "code",
   "execution_count": 36,
   "id": "4fca4510-ac7a-4c18-aef1-fac7a53d190a",
   "metadata": {},
   "outputs": [],
   "source": [
    "job = start_job_response[\"ingestionJob\"]"
   ]
  },
  {
   "cell_type": "code",
   "execution_count": 38,
   "id": "0503cdeb-2e56-4a44-9daf-e427df9ece23",
   "metadata": {},
   "outputs": [],
   "source": [
    "# Get job \n",
    "while(job['status']!='COMPLETE' ):\n",
    "  get_job_response = bedrock_agent_client.get_ingestion_job(\n",
    "      knowledgeBaseId = kb['knowledgeBaseId'],\n",
    "        dataSourceId = ds[\"dataSourceId\"],\n",
    "        ingestionJobId = job[\"ingestionJobId\"]\n",
    "  )\n",
    "  job = get_job_response[\"ingestionJob\"]\n",
    "time.sleep(40)"
   ]
  },
  {
   "cell_type": "code",
   "execution_count": 39,
   "id": "50009089-41fb-4fd4-ab05-b7f1d32bc605",
   "metadata": {},
   "outputs": [],
   "source": [
    "kb_id = kb[\"knowledgeBaseId\"]"
   ]
  },
  {
   "cell_type": "code",
   "execution_count": 40,
   "id": "9870e512-c5d8-46e9-8301-d7e99bccc0f7",
   "metadata": {},
   "outputs": [
    {
     "name": "stdout",
     "output_type": "stream",
     "text": [
      "Stored 'kb_id' (str)\n"
     ]
    }
   ],
   "source": [
    "%store kb_id"
   ]
  },
  {
   "cell_type": "code",
   "execution_count": 41,
   "id": "08514a56-f80b-47bd-860b-d1b252aa6979",
   "metadata": {},
   "outputs": [],
   "source": [
    "# Create an S3 client\n",
    "s3 = boto3.client('s3')\n",
    "\n",
    "# Create an S3 bucket\n",
    "patient_bucket_name = f'patient-data-{s3_suffix}'\n",
    "\n",
    "try:\n",
    "    s3.create_bucket(Bucket=patient_bucket_name)\n",
    "except botocore.exceptions.ClientError as e:\n",
    "    error_code = e.response['Error']['Code']\n",
    "    if error_code == 'BucketAlreadyOwnedByYou':\n",
    "        print(f\"Bucket {bucket_name} already exists.\")\n",
    "    else:\n",
    "        print(f\"Error creating bucket: {e}\")\n",
    "        raise"
   ]
  },
  {
   "cell_type": "code",
   "execution_count": 42,
   "id": "be15839b-f96b-40f2-91f4-4570580d5d07",
   "metadata": {},
   "outputs": [],
   "source": [
    "# Upload a CSV file with ptient data to the S3 bucket\n",
    "local_file_path = 'filetered_ds_id_email.csv'\n",
    "s3_key_dataset = 'data.csv'\n",
    "\n",
    "try:\n",
    "    s3.upload_file(Filename=local_file_path, Bucket=bucket_name, Key=s3_key)\n",
    "except ClientError as e:\n",
    "    print(f\"Error uploading file to S3: {e}\")\n",
    "    raise"
   ]
  },
  {
   "cell_type": "code",
   "execution_count": 43,
   "id": "d9cff40a-23d8-4fed-abf1-8e3f02c22af2",
   "metadata": {},
   "outputs": [
    {
     "name": "stdout",
     "output_type": "stream",
     "text": [
      "Table already exists.\n"
     ]
    }
   ],
   "source": [
    "# Create a DynamoDB client\n",
    "dynamodb = boto3.client('dynamodb')\n",
    "\n",
    "table_name = \"my_dynamo_table\" # change to your table name  \n",
    "\n",
    "# Create the DynamoDB table using the import_table client\n",
    "try:\n",
    "    response = dynamodb.import_table(\n",
    "        S3BucketSource={\n",
    "            'S3Bucket': bucket_name,\n",
    "            'S3KeyPrefix': s3_key_dataset\n",
    "        },\n",
    "        InputFormat='CSV',\n",
    "        TableCreationParameters={\n",
    "            'TableName': table_name, \n",
    "            'AttributeDefinitions': [\n",
    "                {\n",
    "                    'AttributeName': 'Patient ID',\n",
    "                    'AttributeType': 'S'\n",
    "                },\n",
    "            ],\n",
    "            'KeySchema': [\n",
    "                {\n",
    "                    'AttributeName': 'Patient ID',\n",
    "                    'KeyType': 'HASH'\n",
    "                },\n",
    "            ],\n",
    "            'BillingMode': 'PAY_PER_REQUEST'\n",
    "        }\n",
    "    )\n",
    "\n",
    "    # Wait for the table to be created\n",
    "    table_status = None\n",
    "    while table_status != 'ACTIVE':\n",
    "        describe_response = dynamodb.describe_table(TableName='my-table')\n",
    "        table_status = describe_response['Table']['TableStatus']\n",
    "        if table_status != 'ACTIVE':\n",
    "            time.sleep(5)  # Wait for 5 seconds before checking again\n",
    "\n",
    "    print(\"Table created successfully.\")\n",
    "\n",
    "except botocore.exceptions.ClientError as e:\n",
    "    error_code = e.response['Error']['Code']\n",
    "    if error_code == 'ResourceInUseException':\n",
    "        print(\"Table already exists.\")\n",
    "    else:\n",
    "        print(\"Error creating table:\", e)\n"
   ]
  },
  {
   "cell_type": "code",
   "execution_count": 121,
   "id": "08f20c6a-8bdb-4c8c-a29b-d2cc5ee4e074",
   "metadata": {},
   "outputs": [],
   "source": [
    "# Aqui tenho de passar patient_id\n",
    "patient_id = '1'"
   ]
  },
  {
   "cell_type": "code",
   "execution_count": 131,
   "id": "36325c88-8e32-47c0-ba91-64387db0a6d8",
   "metadata": {},
   "outputs": [
    {
     "name": "stdout",
     "output_type": "stream",
     "text": [
      "Patient Information: {'Discharge Date': '2021-04-15', 'Billing Amount': '39593.4357611308', 'Admission Type': 'Urgent', 'Medical Condition': 'Hypertension', 'Medication': 'Lipitor', 'email': 'duartepcmoura@gmail.com', 'Patient ID': '1', 'Room Number': '161', 'Gender': 'Male', 'Test Results': 'Abnormal', 'Blood Type': 'AB+', 'Date of Admission': '2021-03-22', 'Doctor': 'Patricia Bishop', 'Insurance Provider': 'Cigna', 'Hospital': 'Wheeler, Bryant and Johns', 'Name': 'Charles Horton', 'Age': '82'}\n"
     ]
    }
   ],
   "source": [
    "try:\n",
    "    # Retrieve item from DynamoDB\n",
    "    response = dynamodb.get_item(\n",
    "        TableName=table_name,\n",
    "        Key={\n",
    "            'Patient ID': {'S': patient_id}\n",
    "        }\n",
    "    )\n",
    "    \n",
    "    # Extract patient information if item exists\n",
    "    item = response.get('Item')\n",
    "    if item:\n",
    "        patient_info = {key: value.get('S') for key, value in item.items()}\n",
    "        print(\"Patient Information:\", patient_info)\n",
    "    else:\n",
    "        print(\"Patient not found\")\n",
    "        patient_info = None\n",
    "\n",
    "except Exception as e:\n",
    "    print(\"Error retrieving patient information:\", e)\n",
    "    patient_info = None\n"
   ]
  },
  {
   "cell_type": "code",
   "execution_count": 132,
   "id": "258f9b1f-8350-4da0-b2fd-1abe5460f9d5",
   "metadata": {},
   "outputs": [
    {
     "name": "stdout",
     "output_type": "stream",
     "text": [
      "[Document(page_content='Conditional recommendation, low-certainty evidence   Implementation remarks:    [ Suggested tests include serum electrolytes and creatinine, lipid panel, HbA1C or fasting glucose,  urine dipstick, and electrocardiogram (ECG).     [ In low-resourced areas or non-clinical settings, where testing may not be possible because of  additional costs, and lack of access to laboratories and ECG, treatment should not be delayed,  and testing can be done subsequently.     [ Some medicines, such as long-acting dihydropyridine calcium-channel blockers (CCBs) are more  suitable for initiation without testing, compared to diuretics or angiotensin-converting enzyme  inhibitors (ACEi)/angiotensin-II receptor blockers (ARBs).   8        Evidence and rationale   Comparative studies that evaluate various testing strategies prior to the initiation of antihypertensive  treatment were not identified, despite a search of the literature. Therefore, indirect evidence was  sought to evaluate this question. An analytic framework was developed to conceptualize the rationale  for obtaining diagnostic testing, such as laboratory tests and electrocardiogram (ECG), in this context  (see Fig. 2). This framework identified the four most important reasons for obtaining testing, which are  to diagnose secondary HTN, identify comorbidities (e.g. DM), identify end organ damage (e.g. chronic  kidney disease (CKD) or left ventricular hypertrophy (LVH)), and for cardiac risk stratification.    Fig. 2  Framework for analysis   People with  high BP   Laboratory tests ECG   Treatment Patient-important  outcomes   Follow-up tests   PICO 2: No comparative studies    Desirable effects of testing Identification of: • secondary HTN • comorbidities (e.g. DM) • end organ damage (e.g.     CKD, LVH) Opportunity to: • develop cardiac risk    stratification • choose certain medications    over others    direct evidence   Color legend:   indirect evidence   Undesirable effects of  testing • incidental findings • cost • delay in starting treatment   In terms of secondary HTN, various studies suggest a prevalence of 5–10% among patients with a  diagnosis of HTN and a higher prevalence of 10–30% among patients with particularly high BP (e.g.  over 175/115 mmHg) or BP that is resistant to treatment (18, 19, 20).', metadata={'location': {'s3Location': {'uri': 's3://your-s3-bucketus-east-1-336445861055/knowledge_data/hypertension.pdf'}, 'type': 'S3'}, 'score': 0.6230929}),\n",
      " Document(page_content='In addition, relevant subgroups (s) were identified.   1 At what level of blood pressure should pharmacological therapy be started to  prevent cardiovascular events?   P Adult men and women   I Specific systolic and diastolic blood pressure thresholds:*   systolic (mmHg): ≥120, ≥130, ≥140, ≥150   diastolic (mmHg): ≥80, ≥90   C Placebo or systolic or diastolic blood pressure threshold that is higher than intervention  thresholds   O Death (all-cause mortality), cardiovascular death (death from MI, sudden cardiac death or  stroke), stroke, myocardial infarction, end-stage renal disease, cognitive impairment/dementia,  heart failure events and adverse events   s Based on different effect modifiers such as: estimated cardiovascular risk; pre-existing CAD,  stroke, diabetes, age, sex, chronic kidney disease and race/ethnicity   * Each BP threshold in the intervention category (I) will be compared with a higher threshold. For example, I  (<140) will be compared to C (≥140)   2 Is any laboratory testing necessary prior to initiation or during titration of  pharmacological treatments   P Adult men and women requiring antihypertensive treatment   I Initiation or titration of antihypertensives without lab tests   C Initiation or titration of antihypertensives with lab tests   O Death (all-cause mortality), cardiovascular death (death from MI, sudden cardiac death or  stroke), stroke, myocardial infarction, end-stage renal disease and heart failure events, cognitive  impairment/decline   BP control   Time to control BP   Adherence   Adverse effects   Patient satisfaction   s Individual drugs and doses   Patients with no comorbidities   Baseline blood pressure   Type of lab test (ECG, blood, etc)   44        3 Should cardiovascular risk assessment be used to guide initiation of  antihypertensive medications?', metadata={'location': {'s3Location': {'uri': 's3://your-s3-bucketus-east-1-336445861055/knowledge_data/hypertension.pdf'}, 'type': 'S3'}, 'score': 0.6189205}),\n",
      " Document(page_content='CKD, LVH) Opportunity to: • develop cardiac risk    stratification • choose certain medications    over others    direct evidence   Color legend:   indirect evidence   Undesirable effects of  testing • incidental findings • cost • delay in starting treatment   In terms of secondary HTN, various studies suggest a prevalence of 5–10% among patients with a  diagnosis of HTN and a higher prevalence of 10–30% among patients with particularly high BP (e.g.  over 175/115 mmHg) or BP that is resistant to treatment (18, 19, 20). Morbidities and end organ  damage that could be identified by testing patients with HTN are also common. One estimation  indicates that 23%, 24% and 39% of patients with a diagnosis of HTN have one, two, three or more  comorbidities respectively. Common comorbidities among patients with HTN that can be discovered  via laboratory testing are hyperlipidaemia and diabetes, which have a prevalence of 56% and 27%  respectively (21). Testing at the point of starting HTN medications or for subsequent monitoring can  also identify patients who develop certain adverse events after treatment (e.g. hyperkalaemia and  acute kidney injury), thus providing a rationale for testing. Testing also had the additional advantage of  identifying compelling indications for choosing certain medications over others. For example, identifying  diabetes would favour the use of ACEis/ARBs, and identifying hyponatraemia would lead to not starting  diuretics. Overall, the desirable effects of testing were judged to be at least moderate.   The framework also identified the most undesirable effects of obtaining testing, which were delay  of starting treatment, cost and incidental findings. Delay of treatment was judged to be the most  important concern since it can lead to losing the patient for follow up and the potential for adverse  cardiovascular (CV) outcomes. Incidental findings on testing were thought to be less important. The  undesirable effects of testing were judged to have smaller magnitude. On balance, desirable effects are  likely to outweigh undesirable effects. The certainty of evidence across outcome was judged to be very  low due to serious concerns about the indirectness of evidence.', metadata={'location': {'s3Location': {'uri': 's3://your-s3-bucketus-east-1-336445861055/knowledge_data/hypertension.pdf'}, 'type': 'S3'}, 'score': 0.61095834}),\n",
      " Document(page_content='.    [ Patient should be counselled about starting medication therapy.    [ Basic laboratory testing (electrolytes, creatinine, lipogram, glucose, HbA1C, urine dipstick, and ECG) to  occur as long as it does not delay treatment.     [ A CV risk assessment can be conducted immediately (as long as it does not delay initiation of treatment)  or at a later visit.    [ Consider using diuretics or CCB in patients 65 years or older, or those of African or Afro-Caribbean descent,  beta-blockers (BBs) post MI, ACEis/ARBs in those with DM, heart failure or CKD.   26        Fig. 4  An approach for starting treatment not using a single-pill combination (i.e. with monotherapy or  free combination therapy)   Pharmacological treatment to be initiated under the following circumstances:    [ A diagnosis of HTN has already been made.    [ Initiation of pharmacological HTN treatment should start no later than four weeks after diagnosis of HTN.     [ If BP level is high or there is accompanying evidence of end organ damage, initiation of treatment should  be started without delay.    [ Patient should be counselled about starting medication therapy.    [ Basic laboratory testing (electrolytes, creatinine, lipogram, glucose, HbA1C, urine dipstick, and ECG) to  occur as long as it does not delay treatment.     [ A CV risk assessment can be conducted immediately (as long as it does not delay initiation of treatment)  or at a later visit.    [ Consider using diuretics or CCB in patients 65 years or older, or those of African or Afro-Caribbean descent,  beta-blockers (BBs) post MI, ACEis/ARBs in those with DM, heart failure or CKD.   Treat adults with BP ≥140 mmHg or ≥90   (SBP ≥130 mmHg for those with CVD, DM, CKD).    Start with medications from any of the following three classes of pharmacological  antihypertensive medications as an initial treatment:    1) thiazide and thiazide-like agents, 2) ACEi/ARB, and 3) long-acting dihydropyridine CCB.   Treatment targets: <140/90 mmHg  (SBP <130 mmHg for high-risk patients with CVD, DM, CKD).   Follow up monthly after initiation or a change in antihypertensive medications  until patient reaches target.', metadata={'location': {'s3Location': {'uri': 's3://your-s3-bucketus-east-1-336445861055/knowledge_data/hypertension.pdf'}, 'type': 'S3'}, 'score': 0.6077452})]\n"
     ]
    }
   ],
   "source": [
    "# Simulate getting recommendation using BedrockChat\n",
    "# Create the LangChain components\n",
    "from langchain.prompts import PromptTemplate\n",
    "import pprint as pp\n",
    "\n",
    "bedrock_client = boto3.client(\"bedrock-runtime\")\n",
    "\n",
    "model_id = \"anthropic.claude-3-haiku-20240307-v1:0\"\n",
    "llm = BedrockChat(model_id=model_id, client=bedrock_client)\n",
    "\n",
    "question = f\"What recommendations would you give to the patient based on the {patient_info}?\"\n",
    "retriever = AmazonKnowledgeBasesRetriever(\n",
    "    knowledge_base_id=kb_id,\n",
    "    retrieval_config={\n",
    "        \"vectorSearchConfiguration\": {\n",
    "            \"numberOfResults\": 4,\n",
    "            \"overrideSearchType\": \"SEMANTIC\",  # optional\n",
    "        }\n",
    "    },\n",
    ")\n",
    "\n",
    "docs = retriever.get_relevant_documents(\n",
    "        query=question\n",
    "    )\n",
    "pp.pprint(docs)"
   ]
  },
  {
   "cell_type": "code",
   "execution_count": 136,
   "id": "6ce83932-a8d2-4553-8016-97d79ec62a78",
   "metadata": {},
   "outputs": [],
   "source": [
    "question = f\"What recommendations would you give to the patient based on the {patient_info}?\"\n",
    "\n",
    "\n",
    "PROMPT_TEMPLATE = \"\"\"\n",
    "Human: You are a medical assistant that writes emails to patients based on the medical info you're provided with. \n",
    "You should keep a formal and professional language. \n",
    "You should present yourself as Dr. Claude, the patient's AI medical assistant, and provide next steps for the patient.\n",
    "You should use medical technical terms but should not refer specific studies in your answer.\n",
    "Use the following pieces of information to provide a concise answer to the question enclosed in <question> tags. \n",
    "Correlate the patient's information with the medical info from the context to provide a medically accurate response. \n",
    "\n",
    "<context>\n",
    "{context}\n",
    "</context>\n",
    "\n",
    "<question>\n",
    "{question}\n",
    "</question>\n",
    "\n",
    "Never say \"based on the context or information provided\". It should come across that you already know this knowledge beforehand.\n",
    "\n",
    "Assistant:\"\"\"\n",
    "\n",
    "claude_prompt = PromptTemplate(template=PROMPT_TEMPLATE, \n",
    "                               input_variables=[\"context\", \"question\"])"
   ]
  },
  {
   "cell_type": "code",
   "execution_count": 137,
   "id": "89f621b1-c03d-45b7-878a-fb06c2357bd1",
   "metadata": {},
   "outputs": [],
   "source": [
    "from langchain.chains import RetrievalQA\n",
    "\n",
    "qa = RetrievalQA.from_chain_type(\n",
    "    llm=llm,\n",
    "    chain_type=\"stuff\",\n",
    "    retriever=retriever,\n",
    "    return_source_documents=True,\n",
    "    chain_type_kwargs={\"prompt\": claude_prompt}\n",
    ")"
   ]
  },
  {
   "cell_type": "code",
   "execution_count": 138,
   "id": "5bbfca63-080e-4ad7-b45a-f8214e532ea7",
   "metadata": {},
   "outputs": [
    {
     "name": "stdout",
     "output_type": "stream",
     "text": [
      "('Dear Mr. Horton,\\n'\n",
      " '\\n'\n",
      " 'I hope this email finds you well. As your AI medical assistant, Dr. Claude, '\n",
      " 'I wanted to provide you with some recommendations based on the information I '\n",
      " 'have regarding your recent hospital visit.\\n'\n",
      " '\\n'\n",
      " 'Given your diagnosis of hypertension, it is important to initiate '\n",
      " 'pharmacological treatment to manage your blood pressure and reduce the risk '\n",
      " 'of cardiovascular events. Based on the guidelines, I would recommend '\n",
      " 'starting you on a medication from one of the following three classes: '\n",
      " 'thiazide and thiazide-like diuretics, angiotensin-converting enzyme '\n",
      " 'inhibitors (ACEi) or angiotensin II receptor blockers (ARB), or long-acting '\n",
      " 'dihydropyridine calcium channel blockers (CCB).\\n'\n",
      " '\\n'\n",
      " 'Since you are taking Lipitor, which is a lipid-lowering medication, I would '\n",
      " 'also advise conducting a comprehensive laboratory evaluation, including '\n",
      " 'serum electrolytes, creatinine, lipid panel, glucose, and HbA1C, as well as '\n",
      " 'a urine dipstick and electrocardiogram (ECG). This will help assess any '\n",
      " 'underlying comorbidities or end-organ damage that may influence the '\n",
      " 'selection of antihypertensive therapy.\\n'\n",
      " '\\n'\n",
      " 'Additionally, a cardiovascular risk assessment should be performed, either '\n",
      " 'immediately or at a subsequent visit, to guide the initiation and titration '\n",
      " 'of your antihypertensive medications. Given your advanced age of 82 and your '\n",
      " 'medical history, I would consider starting you on a diuretic or CCB, as '\n",
      " 'these may be more suitable for your individual needs.\\n'\n",
      " '\\n'\n",
      " 'It is essential that we initiate treatment without delay, as uncontrolled '\n",
      " 'hypertension can lead to serious cardiovascular complications. However, the '\n",
      " 'laboratory testing should not delay the start of your medication therapy. We '\n",
      " 'can make any necessary adjustments to your treatment plan based on the test '\n",
      " 'results.\\n'\n",
      " '\\n'\n",
      " 'Please do not hesitate to reach out if you have any questions or concerns. I '\n",
      " 'am here to support you throughout your care and ensure the best possible '\n",
      " 'outcomes for your health.\\n'\n",
      " '\\n'\n",
      " 'Sincerely,\\n'\n",
      " 'Dr. Claude\\n'\n",
      " 'Your AI Medical Assistant')\n"
     ]
    }
   ],
   "source": [
    "answer = qa.invoke(question)\n",
    "\n",
    "recommendation = answer['result']\n",
    "\n",
    "pp.pprint(recommendation)"
   ]
  },
  {
   "cell_type": "code",
   "execution_count": 128,
   "id": "0a43039d-004d-4744-ba45-725d9725221d",
   "metadata": {},
   "outputs": [
    {
     "name": "stdout",
     "output_type": "stream",
     "text": [
      "Created SNS topic: drclaude2\n"
     ]
    }
   ],
   "source": [
    "# Create an SNS client\n",
    "sns = boto3.client('sns')\n",
    "\n",
    "# Create an SNS topic\n",
    "topic_name = \"drclaude2\"\n",
    "response = sns.create_topic(Name=topic_name)\n",
    "topic_arn = response['TopicArn']\n",
    "print(f\"Created SNS topic: {topic_name}\")"
   ]
  },
  {
   "cell_type": "code",
   "execution_count": 129,
   "id": "1557815b-23df-4118-a7c1-378620164eaf",
   "metadata": {},
   "outputs": [
    {
     "name": "stdout",
     "output_type": "stream",
     "text": [
      "Subscribed email duartepcmoura@gmail.com to topic drclaude2\n",
      "\n",
      "Check your inbox to confirm the subscription!\n"
     ]
    }
   ],
   "source": [
    "# Subscribe an email to the SNS topic\n",
    "email_address = \"duartepcmoura@gmail.com\" # put your own email here \n",
    "subscription_response = sns.subscribe(\n",
    "    TopicArn=topic_arn,\n",
    "    Protocol='email',\n",
    "    Endpoint=email_address\n",
    ")\n",
    "\n",
    "print(f\"Subscribed email {email_address} to topic {topic_name}\\n\")\n",
    "print(\"Check your inbox to confirm the subscription!\")"
   ]
  },
  {
   "cell_type": "code",
   "execution_count": 135,
   "id": "2a4f78b4-046e-4932-8360-62d5108907ce",
   "metadata": {},
   "outputs": [
    {
     "name": "stdout",
     "output_type": "stream",
     "text": [
      "Email sent successfully.\n",
      "Response: {'MessageId': '28405e33-a0b0-515e-b18b-004dece753fe', 'ResponseMetadata': {'RequestId': '07e80129-c09f-55fb-b636-5f578cc8f75b', 'HTTPStatusCode': 200, 'HTTPHeaders': {'x-amzn-requestid': '07e80129-c09f-55fb-b636-5f578cc8f75b', 'date': 'Wed, 27 Mar 2024 16:32:23 GMT', 'content-type': 'text/xml', 'content-length': '294', 'connection': 'keep-alive'}, 'RetryAttempts': 0}}\n"
     ]
    }
   ],
   "source": [
    "# Check if the patient's email is subscribed to the SNS topic\n",
    "response = sns.list_subscriptions_by_topic(\n",
    "    TopicArn=topic_arn\n",
    ")\n",
    "\n",
    "# Extract the list of subscribed emails\n",
    "subscribed_emails = [\n",
    "    subscription[\"Endpoint\"] for subscription in response[\"Subscriptions\"]\n",
    "]\n",
    "\n",
    "patient_email = patient_info[\"email\"]\n",
    "\n",
    "# If the patient's email is subscribed, send the email\n",
    "if patient_email in subscribed_emails:\n",
    "    # Set the email subject and message\n",
    "    subject = \"Dr. Claude's Medical Recommendations\"\n",
    "    message = f\"{recommendation}\"\n",
    "\n",
    "    # Send the email using SNS\n",
    "    response = sns.publish(\n",
    "        TopicArn= topic_arn,\n",
    "        Subject=subject,\n",
    "        Message=message,\n",
    "        MessageAttributes={\n",
    "            \"email\": {\"DataType\": \"String\", \"StringValue\": patient_email}\n",
    "        },\n",
    "    )\n",
    "    print(\"Email sent successfully.\")\n",
    "    print(\"Response:\", response)\n",
    "else:\n",
    "    print(f\"The patient's email ({patient_email}) is not subscribed to the SNS topic.\")\n"
   ]
  },
  {
   "cell_type": "code",
   "execution_count": null,
   "id": "f80b2959-8c15-454e-84de-40c6115af858",
   "metadata": {},
   "outputs": [],
   "source": []
  }
 ],
 "metadata": {
  "availableInstances": [
   {
    "_defaultOrder": 0,
    "_isFastLaunch": true,
    "category": "General purpose",
    "gpuNum": 0,
    "hideHardwareSpecs": false,
    "memoryGiB": 4,
    "name": "ml.t3.medium",
    "vcpuNum": 2
   },
   {
    "_defaultOrder": 1,
    "_isFastLaunch": false,
    "category": "General purpose",
    "gpuNum": 0,
    "hideHardwareSpecs": false,
    "memoryGiB": 8,
    "name": "ml.t3.large",
    "vcpuNum": 2
   },
   {
    "_defaultOrder": 2,
    "_isFastLaunch": false,
    "category": "General purpose",
    "gpuNum": 0,
    "hideHardwareSpecs": false,
    "memoryGiB": 16,
    "name": "ml.t3.xlarge",
    "vcpuNum": 4
   },
   {
    "_defaultOrder": 3,
    "_isFastLaunch": false,
    "category": "General purpose",
    "gpuNum": 0,
    "hideHardwareSpecs": false,
    "memoryGiB": 32,
    "name": "ml.t3.2xlarge",
    "vcpuNum": 8
   },
   {
    "_defaultOrder": 4,
    "_isFastLaunch": true,
    "category": "General purpose",
    "gpuNum": 0,
    "hideHardwareSpecs": false,
    "memoryGiB": 8,
    "name": "ml.m5.large",
    "vcpuNum": 2
   },
   {
    "_defaultOrder": 5,
    "_isFastLaunch": false,
    "category": "General purpose",
    "gpuNum": 0,
    "hideHardwareSpecs": false,
    "memoryGiB": 16,
    "name": "ml.m5.xlarge",
    "vcpuNum": 4
   },
   {
    "_defaultOrder": 6,
    "_isFastLaunch": false,
    "category": "General purpose",
    "gpuNum": 0,
    "hideHardwareSpecs": false,
    "memoryGiB": 32,
    "name": "ml.m5.2xlarge",
    "vcpuNum": 8
   },
   {
    "_defaultOrder": 7,
    "_isFastLaunch": false,
    "category": "General purpose",
    "gpuNum": 0,
    "hideHardwareSpecs": false,
    "memoryGiB": 64,
    "name": "ml.m5.4xlarge",
    "vcpuNum": 16
   },
   {
    "_defaultOrder": 8,
    "_isFastLaunch": false,
    "category": "General purpose",
    "gpuNum": 0,
    "hideHardwareSpecs": false,
    "memoryGiB": 128,
    "name": "ml.m5.8xlarge",
    "vcpuNum": 32
   },
   {
    "_defaultOrder": 9,
    "_isFastLaunch": false,
    "category": "General purpose",
    "gpuNum": 0,
    "hideHardwareSpecs": false,
    "memoryGiB": 192,
    "name": "ml.m5.12xlarge",
    "vcpuNum": 48
   },
   {
    "_defaultOrder": 10,
    "_isFastLaunch": false,
    "category": "General purpose",
    "gpuNum": 0,
    "hideHardwareSpecs": false,
    "memoryGiB": 256,
    "name": "ml.m5.16xlarge",
    "vcpuNum": 64
   },
   {
    "_defaultOrder": 11,
    "_isFastLaunch": false,
    "category": "General purpose",
    "gpuNum": 0,
    "hideHardwareSpecs": false,
    "memoryGiB": 384,
    "name": "ml.m5.24xlarge",
    "vcpuNum": 96
   },
   {
    "_defaultOrder": 12,
    "_isFastLaunch": false,
    "category": "General purpose",
    "gpuNum": 0,
    "hideHardwareSpecs": false,
    "memoryGiB": 8,
    "name": "ml.m5d.large",
    "vcpuNum": 2
   },
   {
    "_defaultOrder": 13,
    "_isFastLaunch": false,
    "category": "General purpose",
    "gpuNum": 0,
    "hideHardwareSpecs": false,
    "memoryGiB": 16,
    "name": "ml.m5d.xlarge",
    "vcpuNum": 4
   },
   {
    "_defaultOrder": 14,
    "_isFastLaunch": false,
    "category": "General purpose",
    "gpuNum": 0,
    "hideHardwareSpecs": false,
    "memoryGiB": 32,
    "name": "ml.m5d.2xlarge",
    "vcpuNum": 8
   },
   {
    "_defaultOrder": 15,
    "_isFastLaunch": false,
    "category": "General purpose",
    "gpuNum": 0,
    "hideHardwareSpecs": false,
    "memoryGiB": 64,
    "name": "ml.m5d.4xlarge",
    "vcpuNum": 16
   },
   {
    "_defaultOrder": 16,
    "_isFastLaunch": false,
    "category": "General purpose",
    "gpuNum": 0,
    "hideHardwareSpecs": false,
    "memoryGiB": 128,
    "name": "ml.m5d.8xlarge",
    "vcpuNum": 32
   },
   {
    "_defaultOrder": 17,
    "_isFastLaunch": false,
    "category": "General purpose",
    "gpuNum": 0,
    "hideHardwareSpecs": false,
    "memoryGiB": 192,
    "name": "ml.m5d.12xlarge",
    "vcpuNum": 48
   },
   {
    "_defaultOrder": 18,
    "_isFastLaunch": false,
    "category": "General purpose",
    "gpuNum": 0,
    "hideHardwareSpecs": false,
    "memoryGiB": 256,
    "name": "ml.m5d.16xlarge",
    "vcpuNum": 64
   },
   {
    "_defaultOrder": 19,
    "_isFastLaunch": false,
    "category": "General purpose",
    "gpuNum": 0,
    "hideHardwareSpecs": false,
    "memoryGiB": 384,
    "name": "ml.m5d.24xlarge",
    "vcpuNum": 96
   },
   {
    "_defaultOrder": 20,
    "_isFastLaunch": false,
    "category": "General purpose",
    "gpuNum": 0,
    "hideHardwareSpecs": true,
    "memoryGiB": 0,
    "name": "ml.geospatial.interactive",
    "supportedImageNames": [
     "sagemaker-geospatial-v1-0"
    ],
    "vcpuNum": 0
   },
   {
    "_defaultOrder": 21,
    "_isFastLaunch": true,
    "category": "Compute optimized",
    "gpuNum": 0,
    "hideHardwareSpecs": false,
    "memoryGiB": 4,
    "name": "ml.c5.large",
    "vcpuNum": 2
   },
   {
    "_defaultOrder": 22,
    "_isFastLaunch": false,
    "category": "Compute optimized",
    "gpuNum": 0,
    "hideHardwareSpecs": false,
    "memoryGiB": 8,
    "name": "ml.c5.xlarge",
    "vcpuNum": 4
   },
   {
    "_defaultOrder": 23,
    "_isFastLaunch": false,
    "category": "Compute optimized",
    "gpuNum": 0,
    "hideHardwareSpecs": false,
    "memoryGiB": 16,
    "name": "ml.c5.2xlarge",
    "vcpuNum": 8
   },
   {
    "_defaultOrder": 24,
    "_isFastLaunch": false,
    "category": "Compute optimized",
    "gpuNum": 0,
    "hideHardwareSpecs": false,
    "memoryGiB": 32,
    "name": "ml.c5.4xlarge",
    "vcpuNum": 16
   },
   {
    "_defaultOrder": 25,
    "_isFastLaunch": false,
    "category": "Compute optimized",
    "gpuNum": 0,
    "hideHardwareSpecs": false,
    "memoryGiB": 72,
    "name": "ml.c5.9xlarge",
    "vcpuNum": 36
   },
   {
    "_defaultOrder": 26,
    "_isFastLaunch": false,
    "category": "Compute optimized",
    "gpuNum": 0,
    "hideHardwareSpecs": false,
    "memoryGiB": 96,
    "name": "ml.c5.12xlarge",
    "vcpuNum": 48
   },
   {
    "_defaultOrder": 27,
    "_isFastLaunch": false,
    "category": "Compute optimized",
    "gpuNum": 0,
    "hideHardwareSpecs": false,
    "memoryGiB": 144,
    "name": "ml.c5.18xlarge",
    "vcpuNum": 72
   },
   {
    "_defaultOrder": 28,
    "_isFastLaunch": false,
    "category": "Compute optimized",
    "gpuNum": 0,
    "hideHardwareSpecs": false,
    "memoryGiB": 192,
    "name": "ml.c5.24xlarge",
    "vcpuNum": 96
   },
   {
    "_defaultOrder": 29,
    "_isFastLaunch": true,
    "category": "Accelerated computing",
    "gpuNum": 1,
    "hideHardwareSpecs": false,
    "memoryGiB": 16,
    "name": "ml.g4dn.xlarge",
    "vcpuNum": 4
   },
   {
    "_defaultOrder": 30,
    "_isFastLaunch": false,
    "category": "Accelerated computing",
    "gpuNum": 1,
    "hideHardwareSpecs": false,
    "memoryGiB": 32,
    "name": "ml.g4dn.2xlarge",
    "vcpuNum": 8
   },
   {
    "_defaultOrder": 31,
    "_isFastLaunch": false,
    "category": "Accelerated computing",
    "gpuNum": 1,
    "hideHardwareSpecs": false,
    "memoryGiB": 64,
    "name": "ml.g4dn.4xlarge",
    "vcpuNum": 16
   },
   {
    "_defaultOrder": 32,
    "_isFastLaunch": false,
    "category": "Accelerated computing",
    "gpuNum": 1,
    "hideHardwareSpecs": false,
    "memoryGiB": 128,
    "name": "ml.g4dn.8xlarge",
    "vcpuNum": 32
   },
   {
    "_defaultOrder": 33,
    "_isFastLaunch": false,
    "category": "Accelerated computing",
    "gpuNum": 4,
    "hideHardwareSpecs": false,
    "memoryGiB": 192,
    "name": "ml.g4dn.12xlarge",
    "vcpuNum": 48
   },
   {
    "_defaultOrder": 34,
    "_isFastLaunch": false,
    "category": "Accelerated computing",
    "gpuNum": 1,
    "hideHardwareSpecs": false,
    "memoryGiB": 256,
    "name": "ml.g4dn.16xlarge",
    "vcpuNum": 64
   },
   {
    "_defaultOrder": 35,
    "_isFastLaunch": false,
    "category": "Accelerated computing",
    "gpuNum": 1,
    "hideHardwareSpecs": false,
    "memoryGiB": 61,
    "name": "ml.p3.2xlarge",
    "vcpuNum": 8
   },
   {
    "_defaultOrder": 36,
    "_isFastLaunch": false,
    "category": "Accelerated computing",
    "gpuNum": 4,
    "hideHardwareSpecs": false,
    "memoryGiB": 244,
    "name": "ml.p3.8xlarge",
    "vcpuNum": 32
   },
   {
    "_defaultOrder": 37,
    "_isFastLaunch": false,
    "category": "Accelerated computing",
    "gpuNum": 8,
    "hideHardwareSpecs": false,
    "memoryGiB": 488,
    "name": "ml.p3.16xlarge",
    "vcpuNum": 64
   },
   {
    "_defaultOrder": 38,
    "_isFastLaunch": false,
    "category": "Accelerated computing",
    "gpuNum": 8,
    "hideHardwareSpecs": false,
    "memoryGiB": 768,
    "name": "ml.p3dn.24xlarge",
    "vcpuNum": 96
   },
   {
    "_defaultOrder": 39,
    "_isFastLaunch": false,
    "category": "Memory Optimized",
    "gpuNum": 0,
    "hideHardwareSpecs": false,
    "memoryGiB": 16,
    "name": "ml.r5.large",
    "vcpuNum": 2
   },
   {
    "_defaultOrder": 40,
    "_isFastLaunch": false,
    "category": "Memory Optimized",
    "gpuNum": 0,
    "hideHardwareSpecs": false,
    "memoryGiB": 32,
    "name": "ml.r5.xlarge",
    "vcpuNum": 4
   },
   {
    "_defaultOrder": 41,
    "_isFastLaunch": false,
    "category": "Memory Optimized",
    "gpuNum": 0,
    "hideHardwareSpecs": false,
    "memoryGiB": 64,
    "name": "ml.r5.2xlarge",
    "vcpuNum": 8
   },
   {
    "_defaultOrder": 42,
    "_isFastLaunch": false,
    "category": "Memory Optimized",
    "gpuNum": 0,
    "hideHardwareSpecs": false,
    "memoryGiB": 128,
    "name": "ml.r5.4xlarge",
    "vcpuNum": 16
   },
   {
    "_defaultOrder": 43,
    "_isFastLaunch": false,
    "category": "Memory Optimized",
    "gpuNum": 0,
    "hideHardwareSpecs": false,
    "memoryGiB": 256,
    "name": "ml.r5.8xlarge",
    "vcpuNum": 32
   },
   {
    "_defaultOrder": 44,
    "_isFastLaunch": false,
    "category": "Memory Optimized",
    "gpuNum": 0,
    "hideHardwareSpecs": false,
    "memoryGiB": 384,
    "name": "ml.r5.12xlarge",
    "vcpuNum": 48
   },
   {
    "_defaultOrder": 45,
    "_isFastLaunch": false,
    "category": "Memory Optimized",
    "gpuNum": 0,
    "hideHardwareSpecs": false,
    "memoryGiB": 512,
    "name": "ml.r5.16xlarge",
    "vcpuNum": 64
   },
   {
    "_defaultOrder": 46,
    "_isFastLaunch": false,
    "category": "Memory Optimized",
    "gpuNum": 0,
    "hideHardwareSpecs": false,
    "memoryGiB": 768,
    "name": "ml.r5.24xlarge",
    "vcpuNum": 96
   },
   {
    "_defaultOrder": 47,
    "_isFastLaunch": false,
    "category": "Accelerated computing",
    "gpuNum": 1,
    "hideHardwareSpecs": false,
    "memoryGiB": 16,
    "name": "ml.g5.xlarge",
    "vcpuNum": 4
   },
   {
    "_defaultOrder": 48,
    "_isFastLaunch": false,
    "category": "Accelerated computing",
    "gpuNum": 1,
    "hideHardwareSpecs": false,
    "memoryGiB": 32,
    "name": "ml.g5.2xlarge",
    "vcpuNum": 8
   },
   {
    "_defaultOrder": 49,
    "_isFastLaunch": false,
    "category": "Accelerated computing",
    "gpuNum": 1,
    "hideHardwareSpecs": false,
    "memoryGiB": 64,
    "name": "ml.g5.4xlarge",
    "vcpuNum": 16
   },
   {
    "_defaultOrder": 50,
    "_isFastLaunch": false,
    "category": "Accelerated computing",
    "gpuNum": 1,
    "hideHardwareSpecs": false,
    "memoryGiB": 128,
    "name": "ml.g5.8xlarge",
    "vcpuNum": 32
   },
   {
    "_defaultOrder": 51,
    "_isFastLaunch": false,
    "category": "Accelerated computing",
    "gpuNum": 1,
    "hideHardwareSpecs": false,
    "memoryGiB": 256,
    "name": "ml.g5.16xlarge",
    "vcpuNum": 64
   },
   {
    "_defaultOrder": 52,
    "_isFastLaunch": false,
    "category": "Accelerated computing",
    "gpuNum": 4,
    "hideHardwareSpecs": false,
    "memoryGiB": 192,
    "name": "ml.g5.12xlarge",
    "vcpuNum": 48
   },
   {
    "_defaultOrder": 53,
    "_isFastLaunch": false,
    "category": "Accelerated computing",
    "gpuNum": 4,
    "hideHardwareSpecs": false,
    "memoryGiB": 384,
    "name": "ml.g5.24xlarge",
    "vcpuNum": 96
   },
   {
    "_defaultOrder": 54,
    "_isFastLaunch": false,
    "category": "Accelerated computing",
    "gpuNum": 8,
    "hideHardwareSpecs": false,
    "memoryGiB": 768,
    "name": "ml.g5.48xlarge",
    "vcpuNum": 192
   },
   {
    "_defaultOrder": 55,
    "_isFastLaunch": false,
    "category": "Accelerated computing",
    "gpuNum": 8,
    "hideHardwareSpecs": false,
    "memoryGiB": 1152,
    "name": "ml.p4d.24xlarge",
    "vcpuNum": 96
   },
   {
    "_defaultOrder": 56,
    "_isFastLaunch": false,
    "category": "Accelerated computing",
    "gpuNum": 8,
    "hideHardwareSpecs": false,
    "memoryGiB": 1152,
    "name": "ml.p4de.24xlarge",
    "vcpuNum": 96
   },
   {
    "_defaultOrder": 57,
    "_isFastLaunch": false,
    "category": "Accelerated computing",
    "gpuNum": 0,
    "hideHardwareSpecs": false,
    "memoryGiB": 32,
    "name": "ml.trn1.2xlarge",
    "vcpuNum": 8
   },
   {
    "_defaultOrder": 58,
    "_isFastLaunch": false,
    "category": "Accelerated computing",
    "gpuNum": 0,
    "hideHardwareSpecs": false,
    "memoryGiB": 512,
    "name": "ml.trn1.32xlarge",
    "vcpuNum": 128
   },
   {
    "_defaultOrder": 59,
    "_isFastLaunch": false,
    "category": "Accelerated computing",
    "gpuNum": 0,
    "hideHardwareSpecs": false,
    "memoryGiB": 512,
    "name": "ml.trn1n.32xlarge",
    "vcpuNum": 128
   }
  ],
  "instance_type": "ml.t3.medium",
  "kernelspec": {
   "display_name": "Python 3 (Data Science 3.0)",
   "language": "python",
   "name": "python3__SAGEMAKER_INTERNAL__arn:aws:sagemaker:us-east-1:081325390199:image/sagemaker-data-science-310-v1"
  },
  "language_info": {
   "codemirror_mode": {
    "name": "ipython",
    "version": 3
   },
   "file_extension": ".py",
   "mimetype": "text/x-python",
   "name": "python",
   "nbconvert_exporter": "python",
   "pygments_lexer": "ipython3",
   "version": "3.10.6"
  }
 },
 "nbformat": 4,
 "nbformat_minor": 5
}
